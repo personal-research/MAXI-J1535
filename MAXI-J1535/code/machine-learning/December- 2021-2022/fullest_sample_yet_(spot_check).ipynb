{
  "nbformat": 4,
  "nbformat_minor": 0,
  "metadata": {
    "colab": {
      "name": "fullest sample yet (spot check).ipynb",
      "provenance": [],
      "authorship_tag": "ABX9TyNhdKzv6TCwvpG+7zurJbJZ",
      "include_colab_link": true
    },
    "kernelspec": {
      "name": "python3",
      "display_name": "Python 3"
    },
    "language_info": {
      "name": "python"
    }
  },
  "cells": [
    {
      "cell_type": "markdown",
      "metadata": {
        "id": "view-in-github",
        "colab_type": "text"
      },
      "source": [
        "<a href=\"https://colab.research.google.com/github/thissop/MAXI-J1535/blob/main/MAXI-J1535/code/machine-learning/December-%202021-2022/fullest_sample_yet_(spot_check).ipynb\" target=\"_parent\"><img src=\"https://colab.research.google.com/assets/colab-badge.svg\" alt=\"Open In Colab\"/></a>"
      ]
    },
    {
      "cell_type": "markdown",
      "source": [
        "#fullest sample yet (spot check)\n",
        "\n",
        "* only on classes < 3 and >=0, just checking really quick before email\n",
        "\n",
        "**NOT COMPLETE**"
      ],
      "metadata": {
        "id": "k5i1Bs-bTwiv"
      }
    },
    {
      "cell_type": "code",
      "execution_count": 16,
      "metadata": {
        "colab": {
          "base_uri": "https://localhost:8080/"
        },
        "id": "VV8jMFk_RJjm",
        "outputId": "0bf15864-94f0-42df-a643-22aeab326b78"
      },
      "outputs": [
        {
          "output_type": "stream",
          "name": "stdout",
          "text": [
            "Requirement already satisfied: rebin in /usr/local/lib/python3.7/dist-packages (1.0.1)\n",
            "Requirement already satisfied: numpy in /usr/local/lib/python3.7/dist-packages (from rebin) (1.21.5)\n"
          ]
        }
      ],
      "source": [
        "!pip install rebin\n",
        "from rebin import rebin \n",
        "import pandas as pd\n",
        "import numpy as np \n",
        "import matplotlib.pyplot as plt\n",
        "from sklearn.preprocessing import minmax_scale as normalize\n",
        "from sklearn.preprocessing import MinMaxScaler\n",
        "from sklearn.model_selection import train_test_split\n",
        "from sklearn.neighbors import KNeighborsClassifier\n",
        "from sklearn.metrics import mean_squared_error as mse_score\n",
        "from sklearn.metrics import median_absolute_error as mae_score\n",
        "from sklearn.metrics import accuracy_score as acc_score\n",
        "from sklearn.metrics import r2_score \n",
        "from sklearn.neighbors import KNeighborsClassifier\n",
        "from sklearn.ensemble import RandomForestRegressor\n",
        "from sklearn.linear_model import Ridge, LinearRegression\n",
        "from sklearn.multioutput import RegressorChain\n",
        "from sklearn import utils \n",
        "from sklearn.model_selection import KFold, StratifiedKFold\n",
        "\n",
        "\n",
        "plt.style.use('https://raw.githubusercontent.com/thissop/MAXI-J1535/main/code/misc/stolen_science.mplstyle?token=GHSAT0AAAAAABP54PQO2X2VXMNS256IWOBOYRNCFBA')\n",
        "\n",
        "rs = 8\n",
        "\n",
        "qpo_df = pd.read_csv('https://raw.githubusercontent.com/thissop/MAXI-J1535/main/data/processed/2022/new_current_qpos.csv')\n",
        "\n",
        "mask = np.where(np.isfinite(qpo_df['num_qpos']))\n",
        "qpo_df = qpo_df.iloc[mask]\n",
        "\n",
        "spectral_df = pd.read_csv('https://raw.githubusercontent.com/thissop/MAXI-J1535/main/data/processed/2022/wrangled_nthcomp_spectral_data.csv')\n",
        "\n",
        "merged_df = qpo_df.merge(spectral_df, left_on='full_id', right_on='full_ids').sample(frac=1, random_state=rs)\n",
        "merged_df = merged_df.fillna(0)\n",
        "\n",
        "\n",
        "confidences = np.array(merged_df['confidence_class'])\n",
        "mask = np.logical_and(confidences<3, confidences>=0)\n",
        "merged_df = merged_df.iloc[mask]"
      ]
    },
    {
      "cell_type": "markdown",
      "source": [
        "## xspec "
      ],
      "metadata": {
        "id": "PcyxLNTMUHAu"
      }
    },
    {
      "cell_type": "code",
      "source": [
        "# methods\n",
        "\n",
        "def norm(x, min, max): \n",
        "    return (x - min) / (max - min)\n",
        "\n",
        "def unnorm(x_, min, max):\n",
        "    return x_*(max-min)+min"
      ],
      "metadata": {
        "id": "IGChysxJT3-W"
      },
      "execution_count": 10,
      "outputs": []
    },
    {
      "cell_type": "code",
      "source": [
        "# usual x values way \n",
        "\n",
        "\n",
        "# x values\n",
        "x_vals = np.array([], dtype=float).reshape(0,5) \n",
        "arr_names =  ['hardness_ratio', 'diskbb_norm_before_error', 'gamma_before_error', 'nthcomp_norm_before_error', 'net_source_count_rate'] #reduced_fit_stat\n",
        "(hardness, disk_norms, gammas, nthcomp_norms, net_source_counts) = (normalize(np.array(merged_df[arr_name])) for arr_name in arr_names)\n",
        "\n",
        "for a, b, c, d, e, in zip(hardness, disk_norms, gammas, nthcomp_norms, net_source_counts): \n",
        "    new_arr = np.array([float(a), float(b), float(c), float(d), float(e)])\n",
        "    x_vals = np.vstack([x_vals, new_arr])\n",
        "\n",
        "\n",
        "# just checking for multicolinearity solution help --> doesn't help let's go \n",
        "'''\n",
        "# x values\n",
        "x_vals = np.array([], dtype=float).reshape(0,1) \n",
        "arr_names =  ['nthcomp_norm_before_error'] #reduced_fit_stat\n",
        "nthcomp_norms = normalize(np.array(merged_df['nthcomp_norm_before_error']))\n",
        "\n",
        "for a in nthcomp_norms: \n",
        "    new_arr = np.array([float(a)])\n",
        "    x_vals = np.vstack([x_vals, new_arr])\n",
        "'''\n",
        "# y values \n",
        "# normalize all freqs according to same function ---- THIS IS SO MESSY I KNOW...I AM SORRY \n",
        "combined_freqs = np.concatenate((merged_df['first_freq'], merged_df['second_freq']))\n",
        "min_freq, max_freq = (np.min(combined_freqs), np.max(combined_freqs))\n",
        "combined_widths = np.concatenate((merged_df['first_width'], merged_df['second_width']))\n",
        "min_width, max_width = (np.min(combined_widths), np.max(combined_widths))\n",
        "combined_norms = np.concatenate((merged_df['first_norm'], merged_df['second_norm']))\n",
        "min_norm, max_norm = (np.min(combined_norms), np.max(combined_norms))\n",
        "\n",
        "y_col_names = ['first_freq', 'second_freq', 'first_width', 'second_width', 'first_norm', 'second_norm']\n",
        "freq1s, freq2s = (norm(np.array(merged_df[arr_name]), min_freq, max_freq) for arr_name in y_col_names[0:2])\n",
        "width1s, width2s = (norm(np.array(merged_df[arr_name]), min_width, max_width) for arr_name in y_col_names[2:4])\n",
        "norm1s, norm2s = (norm(np.array(merged_df[arr_name]), min_norm, max_norm) for arr_name in y_col_names[4:])\n",
        "\n",
        "freqs = np.array([], dtype=float).reshape(0,2)\n",
        "widths = np.array([], dtype=float).reshape(0,2)\n",
        "norms = np.array([], dtype=float).reshape(0,2)\n",
        "\n",
        "y_vals = []\n",
        "\n",
        "for i in range(len(freq1s)): \n",
        "    row_matrix = np.array([freq1s[i], freq2s[i], width1s[i], width2s[i], norm1s[i], norm2s[i]])\n",
        "    y_vals.append(row_matrix)\n",
        "\n",
        "y_vals = np.array(y_vals)\n",
        "X_train, X_test, y_train, y_test = train_test_split(x_vals, y_vals, test_size=0.1, shuffle=True, random_state=rs)"
      ],
      "metadata": {
        "id": "mc9s901_UK-f"
      },
      "execution_count": 17,
      "outputs": []
    },
    {
      "cell_type": "code",
      "source": [
        "# Random Forest on spectral inputs \n",
        "\n",
        "regr = RandomForestRegressor()\n",
        "regr.fit(X_train,y_train)\n",
        "\n",
        "predictions = regr.predict(X_test)\n",
        "predicted_freqs = np.array([predictions[i][0:2] for i in range(len(predictions))])\n",
        "predicted_widths = np.array([predictions[i][2:4] for i in range(len(predictions))])\n",
        "predicted_norms = np.array([predictions[i][4:] for i in range(len(predictions))])\n",
        "\n",
        "test_freqs = np.array([y_test[i][0:2] for i in range(len(y_test))])\n",
        "test_widths = np.array([predictions[i][2:4] for i in range(len(y_test))])\n",
        "test_norms = np.array([predictions[i][4:] for i in range(len(y_test))])\n",
        "\n",
        "mses = [mse_score(test_freqs, predicted_freqs), mse_score(test_widths, predicted_widths), mse_score(test_norms, predicted_norms)]\n",
        "maes = [mae_score(test_freqs, predicted_freqs), mae_score(test_widths, predicted_widths), mae_score(test_norms, predicted_norms)]\n",
        "rsqs = [r2_score(test_freqs, predicted_freqs), r2_score(test_widths, predicted_widths), r2_score(test_norms, predicted_norms)]\n",
        "fig, axs = plt.subplots(1, 3, figsize=(9,3))\n",
        "fig.tight_layout()\n",
        "\n",
        "colors = np.sort(2*list(range(len(predictions))))\n",
        "\n",
        "ax = axs[0]\n",
        "ax.scatter(test_freqs, predicted_freqs, c=colors)\n",
        "ax.set(xlabel='true qpo '+r'$\\nu$', ylabel='predicted qpo '+r'$\\nu$')\n",
        "\n",
        "ax = axs[1]\n",
        "ax.scatter(test_widths, predicted_widths, c=colors)\n",
        "ax.set(xlabel='true qpo width', ylabel='predicted qpo width')\n",
        "\n",
        "ax = axs[2]\n",
        "ax.scatter(test_norms, predicted_norms, c=colors)\n",
        "ax.set(xlabel='true qpo norm', ylabel='predicted qpo norm')\n",
        "\n",
        "for i in range(3):  \n",
        "    ax = axs[i]\n",
        "    mse = mses[i]\n",
        "    mae = maes[i]\n",
        "    rsq = rsqs[i]\n",
        "    line_label = 'mse: '+str(round(mse, 3))+'\\n'+'mae: '+str(round(mae, 3))+'\\n'+r'$r^2$'+': '+str(round(rsq, 2))\n",
        "    ax.plot([0,1], [0,1], label=line_label)\n",
        "    ax.legend()\n",
        "    \n",
        "plt.show()"
      ],
      "metadata": {
        "colab": {
          "base_uri": "https://localhost:8080/",
          "height": 232
        },
        "id": "Q5CeT-TEUiJw",
        "outputId": "a29772fd-5bd1-4b80-9e4a-1104a90640ea"
      },
      "execution_count": 18,
      "outputs": [
        {
          "output_type": "display_data",
          "data": {
            "text/plain": [
              "<Figure size 648x216 with 3 Axes>"
            ],
            "image/png": "[encoded data removed]"
          },
          "metadata": {
            "needs_background": "light"
          }
        }
      ]
    },
    {
      "cell_type": "code",
      "source": [
        ""
      ],
      "metadata": {
        "id": "anHRGclwUM34"
      },
      "execution_count": null,
      "outputs": []
    }
  ]
}