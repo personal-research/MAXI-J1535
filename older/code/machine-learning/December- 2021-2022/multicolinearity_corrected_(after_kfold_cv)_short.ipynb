{
  "nbformat": 4,
  "nbformat_minor": 0,
  "metadata": {
    "colab": {
      "name": "multicolinearity corrected (after kfold cv)--short.ipynb",
      "provenance": [],
      "authorship_tag": "ABX9TyMVnc5czrEQ97pmfGZlYj9D",
      "include_colab_link": true
    },
    "kernelspec": {
      "name": "python3",
      "display_name": "Python 3"
    },
    "language_info": {
      "name": "python"
    }
  },
  "cells": [
    {
      "cell_type": "markdown",
      "metadata": {
        "id": "view-in-github",
        "colab_type": "text"
      },
      "source": [
        "<a href=\"https://colab.research.google.com/github/thissop/MAXI-J1535/blob/main/code/machine-learning/December-%202021-2022/multicolinearity_corrected_(after_kfold_cv)_short.ipynb\" target=\"_parent\"><img src=\"https://colab.research.google.com/assets/colab-badge.svg\" alt=\"Open In Colab\"/></a>"
      ]
    },
    {
      "cell_type": "markdown",
      "source": [
        "# multicolinearity corrected (after kfold cv)\n",
        "\n",
        "## Notes\n",
        "\n",
        "* very good article for shap: [datatrigger blog](https://www.datatrigger.org/post/interpretable_machine_learning_shap/)\n",
        "\n",
        "* I think I am not going to drop independent variables. Here's a rough blurb on what I'll say: \n",
        "\n",
        "    * In many cases, when assessing the individual predictive contributions of various indepedent variables, it is reccomended to deal with potential multicolinearity by calculating the Variance Inflation Factor (VIF) and removing features with VIF values ≳5 (\\cite{kline1998principles}, \\cite{Sheather2008-mc}). However, we have chosen not to remove potentially multicolinear features prior to regression for the following reasons. First, a tree based model like Random Forest (which is the focus of this work) is by design robust from the effects of multicolinearity (\\cite{Strobl2008}, \\cite{2021arXiv211102513C}). Second, since multicolinearity only affects the estimated coefficients of linear models, but not their predictive ability, applying a linear model to potentially multicolinear data is perfectly reasonable in our case, as we are using the linear model solely as a baseline against which we will compare the predictive capabilities of the more complicated Random Forest model, i.e. as we are applying the linear model we are not interested in its components (\\cite{multicollinearity_class}, \\cite{multicollinearity_regression}). We will, however, revist multicolinearity when we interpret feature importances in section \\textbf{discussion}. \n",
        "\n",
        "* **IMPORTANT:** also saw something about the \n",
        "\n",
        "* we strive to emphasive interpretability and justification of our models and methods. \n",
        "\n",
        "* min max frequency range for normalization can be drawn from data processing procedure for nicer so that we can apply normalization to both train/test without having to worry about \n",
        "\n",
        "-----------------\n",
        "\n",
        "* probably not going to use this article, but here it is: [Multicollinearity Correction and Combined Feature Effect in Shapley Values](https://arxiv.org/pdf/2011.01661.pdf)\n",
        "\n",
        "* \"All Models are wrong, but some are useful.\" - George Box, famous Bayesian statistician \n",
        "\n",
        "--------\n",
        "\n",
        "Cool way to make rf graphs quickly: \n",
        "\n",
        "```python\n",
        "regr = sklearn.tree.DecisionTreeRegressor()\n",
        "\n",
        "dot_data = sklearn.tree.export_graphviz(regr, out_file=None, filled=True, rounded=True, special_characters=True)\n",
        "graph = graphviz.Source(dot_data)\n",
        "```"
      ],
      "metadata": {
        "id": "HIpcT8bidjRc"
      }
    },
    {
      "cell_type": "code",
      "source": [
        "!pip install rebin\n",
        "!pip install shap\n",
        "import shap\n",
        "import graphviz\n",
        "from rebin import rebin \n",
        "import pandas as pd\n",
        "import sklearn\n",
        "import numpy as np \n",
        "import matplotlib.pyplot as plt\n",
        "from sklearn.preprocessing import minmax_scale as normalize\n",
        "from sklearn.preprocessing import MinMaxScaler\n",
        "from sklearn.model_selection import train_test_split\n",
        "from sklearn.neighbors import KNeighborsClassifier\n",
        "from sklearn.metrics import mean_squared_error as mse_score\n",
        "from sklearn.metrics import median_absolute_error as mae_score\n",
        "from sklearn.metrics import accuracy_score as acc_score\n",
        "from sklearn.metrics import r2_score \n",
        "from sklearn.neighbors import KNeighborsClassifier\n",
        "from sklearn.ensemble import RandomForestRegressor\n",
        "from sklearn.linear_model import Ridge, LinearRegression\n",
        "from sklearn.multioutput import RegressorChain\n",
        "from sklearn import utils \n",
        "from sklearn.model_selection import KFold, StratifiedKFold\n",
        "\n",
        "plt.style.use('https://raw.githubusercontent.com/thissop/MAXI-J1535/main/code/misc/stolen_science.mplstyle?token=GHSAT0AAAAAABP54PQO2X2VXMNS256IWOBOYRNCFBA')\n",
        "\n",
        "rs = 4"
      ],
      "metadata": {
        "colab": {
          "base_uri": "https://localhost:8080/"
        },
        "id": "WLvyp-vxdoS_",
        "outputId": "83fd2500-8427-4234-bd9c-ea8743b8089a"
      },
      "execution_count": 19,
      "outputs": [
        {
          "output_type": "stream",
          "name": "stdout",
          "text": [
            "Requirement already satisfied: rebin in /usr/local/lib/python3.7/dist-packages (1.0.1)\n",
            "Requirement already satisfied: numpy in /usr/local/lib/python3.7/dist-packages (from rebin) (1.21.5)\n",
            "Requirement already satisfied: shap in /usr/local/lib/python3.7/dist-packages (0.40.0)\n",
            "Requirement already satisfied: tqdm>4.25.0 in /usr/local/lib/python3.7/dist-packages (from shap) (4.63.0)\n",
            "Requirement already satisfied: slicer==0.0.7 in /usr/local/lib/python3.7/dist-packages (from shap) (0.0.7)\n",
            "Requirement already satisfied: numba in /usr/local/lib/python3.7/dist-packages (from shap) (0.51.2)\n",
            "Requirement already satisfied: packaging>20.9 in /usr/local/lib/python3.7/dist-packages (from shap) (21.3)\n",
            "Requirement already satisfied: cloudpickle in /usr/local/lib/python3.7/dist-packages (from shap) (1.3.0)\n",
            "Requirement already satisfied: scikit-learn in /usr/local/lib/python3.7/dist-packages (from shap) (1.0.2)\n",
            "Requirement already satisfied: pandas in /usr/local/lib/python3.7/dist-packages (from shap) (1.3.5)\n",
            "Requirement already satisfied: scipy in /usr/local/lib/python3.7/dist-packages (from shap) (1.4.1)\n",
            "Requirement already satisfied: numpy in /usr/local/lib/python3.7/dist-packages (from shap) (1.21.5)\n",
            "Requirement already satisfied: pyparsing!=3.0.5,>=2.0.2 in /usr/local/lib/python3.7/dist-packages (from packaging>20.9->shap) (3.0.7)\n",
            "Requirement already satisfied: setuptools in /usr/local/lib/python3.7/dist-packages (from numba->shap) (57.4.0)\n",
            "Requirement already satisfied: llvmlite<0.35,>=0.34.0.dev0 in /usr/local/lib/python3.7/dist-packages (from numba->shap) (0.34.0)\n",
            "Requirement already satisfied: python-dateutil>=2.7.3 in /usr/local/lib/python3.7/dist-packages (from pandas->shap) (2.8.2)\n",
            "Requirement already satisfied: pytz>=2017.3 in /usr/local/lib/python3.7/dist-packages (from pandas->shap) (2018.9)\n",
            "Requirement already satisfied: six>=1.5 in /usr/local/lib/python3.7/dist-packages (from python-dateutil>=2.7.3->pandas->shap) (1.15.0)\n",
            "Requirement already satisfied: joblib>=0.11 in /usr/local/lib/python3.7/dist-packages (from scikit-learn->shap) (1.1.0)\n",
            "Requirement already satisfied: threadpoolctl>=2.0.0 in /usr/local/lib/python3.7/dist-packages (from scikit-learn->shap) (3.1.0)\n"
          ]
        }
      ]
    },
    {
      "cell_type": "code",
      "source": [
        "# methods\n",
        "\n",
        "def norm(x, min, max): \n",
        "    return (x - min) / (max - min)\n",
        "\n",
        "def unnorm(x_, min, max):\n",
        "    return x_*(max-min)+min"
      ],
      "metadata": {
        "id": "rVvOagqwm4Ht"
      },
      "execution_count": 14,
      "outputs": []
    },
    {
      "cell_type": "code",
      "source": [
        "### FOR SPECTRAL INFORMATION!!\n",
        "\n",
        "spectral_df = pd.read_csv('https://raw.githubusercontent.com/thissop/MAXI-J1535/main/code/misc/count_rates_initial_exploration/count_rates_transposed.csv')\n",
        "qpo_df = pd.read_csv('https://raw.githubusercontent.com/thissop/MAXI-J1535/main/data/processed/2022/current_qpos.csv').fillna(0)\n",
        "\n",
        "\n",
        "spectral_df.sort_values(by='full_id')\n",
        "qpo_df.sort_values(by='full_id')\n",
        "\n",
        "mask = np.where(np.isfinite(qpo_df['num_qpos']))\n",
        "\n",
        "qpo_df = qpo_df.iloc[mask]\n",
        "\n",
        "spectral_indices = []\n",
        "for i in qpo_df['full_id']: \n",
        "    spectral_indices.append(np.where(spectral_df['full_id']==i)[0][0])\n",
        "\n",
        "spectral_df = spectral_df.iloc[spectral_indices]\n",
        "\n",
        "for i in ['first_freq', 'second_freq', 'first_width', 'second_width', 'first_norm', 'second_norm']: \n",
        "    qpo_df = qpo_df.astype({i:float})\n",
        "\n",
        "for i, j in zip(qpo_df['full_id'], spectral_df['full_id']): \n",
        "    if i!=j: \n",
        "        print('mis-match')\n",
        "        print(i,j)\n",
        "# package x values\n",
        "\n",
        "bins = 25\n",
        "\n",
        "x = []\n",
        "\n",
        "for i in range(len(spectral_df.index)): \n",
        "    counts_row = np.array(spectral_df.iloc[[i]])[0][1:].astype(float) \n",
        "    \n",
        "    rebin_factor = int(np.floor(len(counts_row)/bins))\n",
        "    \n",
        "    rebined = rebin(counts_row, rebin_factor)\n",
        "    x.append(rebined)\n",
        "\n",
        "x = np.array(x)\n",
        "\n",
        "# package y values\n",
        "\n",
        "combined_freqs = np.concatenate((qpo_df['first_freq'], qpo_df['second_freq']))\n",
        "min_freq, max_freq = (np.min(combined_freqs), np.max(combined_freqs))\n",
        "combined_widths = np.concatenate((qpo_df['first_width'], qpo_df['second_width']))\n",
        "min_width, max_width = (np.min(combined_widths), np.max(combined_widths))\n",
        "combined_norms = np.concatenate((qpo_df['first_norm'], qpo_df['second_norm']))\n",
        "min_norm, max_norm = (np.min(combined_norms), np.max(combined_norms))\n",
        "\n",
        "y_col_names = ['first_freq', 'second_freq', 'first_width', 'second_width', 'first_norm', 'second_norm']\n",
        "freq1s, freq2s = (norm(np.array(qpo_df[arr_name]), min_freq, max_freq) for arr_name in y_col_names[0:2])\n",
        "width1s, width2s = (norm(np.array(qpo_df[arr_name]), min_width, max_width) for arr_name in y_col_names[2:4])\n",
        "norm1s, norm2s = (norm(np.array(qpo_df[arr_name]), min_norm, max_norm) for arr_name in y_col_names[4:])\n",
        "\n",
        "freqs = np.array([], dtype=float).reshape(0,2)\n",
        "widths = np.array([], dtype=float).reshape(0,2)\n",
        "norms = np.array([], dtype=float).reshape(0,2)\n",
        "\n",
        "y_vals = []\n",
        "\n",
        "for i in range(len(freq1s)): \n",
        "    row_matrix = np.array([freq1s[i], freq2s[i], width1s[i], width2s[i], norm1s[i], norm2s[i]])\n",
        "    y_vals.append(row_matrix)\n",
        "\n",
        "y_vals = np.array(y_vals)\n",
        "\n",
        "x_vals = x\n",
        "x_vals, y_vals, num_qpos = utils.shuffle(x_vals, y_vals, np.array(qpo_df['num_qpos']), random_state=rs)"
      ],
      "metadata": {
        "id": "ytdpXNOumeAF"
      },
      "execution_count": 16,
      "outputs": []
    },
    {
      "cell_type": "code",
      "source": [
        "X_train, X_test, y_train, y_test = train_test_split(x_vals, y_vals, test_size=0.1, shuffle=True, random_state=rs)\n",
        "regr = RandomForestRegressor()\n",
        "regr.fit(X_train,y_train)\n",
        "\n",
        "shap_values = shap.TreeExplainer(regr).shap_values(X_test)\n",
        "\n",
        "# feature_perturbation: set to ‘interventional’ by default; \"uses the shared dataset to compute conditional expectations in the presence of correlated input features.\"\n",
        "\n",
        "# np.shape(shap_values) --> (a,b,c) \n",
        "#--> a: number of classes; b: number of datapoints; c: number of features\n",
        "\n",
        "print(np.shape(shap_values))\n",
        "print(X_test.shape)\n",
        "\n",
        "labs = [str(i) for i in range(25)]\n",
        "\n",
        "shap.summary_plot(shap_values, X_test, plot_type='bar', feature_names=labs)"
      ],
      "metadata": {
        "colab": {
          "base_uri": "https://localhost:8080/",
          "height": 606
        },
        "id": "FoK8Nlo3nHh5",
        "outputId": "4214719a-803b-4ed2-d35d-e1fb5bd731f6"
      },
      "execution_count": 39,
      "outputs": [
        {
          "output_type": "stream",
          "name": "stdout",
          "text": [
            "(6, 29, 25)\n",
            "(29, 25)\n"
          ]
        },
        {
          "output_type": "display_data",
          "data": {
            "text/plain": [
              "<Figure size 576x684 with 1 Axes>"
            ],
            "image/png": "[encoded data removed]"
          },
          "metadata": {
            "needs_background": "light"
          }
        }
      ]
    }
  ]
}