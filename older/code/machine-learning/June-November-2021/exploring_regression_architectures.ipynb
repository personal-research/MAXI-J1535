{
  "nbformat": 4,
  "nbformat_minor": 0,
  "metadata": {
    "orig_nbformat": 4,
    "language_info": {
      "name": "python",
      "version": "3.8.5",
      "mimetype": "text/x-python",
      "codemirror_mode": {
        "name": "ipython",
        "version": 3
      },
      "pygments_lexer": "ipython3",
      "nbconvert_exporter": "python",
      "file_extension": ".py"
    },
    "kernelspec": {
      "name": "python3",
      "display_name": "Python 3.8.5 64-bit"
    },
    "interpreter": {
      "hash": "d3c0f98bc337faacb3dc92d86fb3c3ff5c297fcab3c4973bdf073a6202ea54c1"
    },
    "colab": {
      "name": "exploring_regression_architectures.ipynb",
      "provenance": [],
      "machine_shape": "hm"
    },
    "accelerator": "TPU"
  },
  "cells": [
    {
      "cell_type": "markdown",
      "metadata": {
        "id": "lSUl0vjc4zh4"
      },
      "source": [
        "# Notes\n",
        "* Two possible directions: train a single multi-output regression model (which predicts a matrix of form ```i=[[a1, b1, c1], [a2, b2, c2], [a3, b3, c3]]```, a triplet of multi-output regression models that predict matrices of form ```j=[a, b, c]```, or a set of nine regression models that each predict a value in ```i.flatten()```"
      ]
    },
    {
      "cell_type": "markdown",
      "metadata": {
        "id": "hli54IGn5iVe"
      },
      "source": [
        "# Code"
      ]
    },
    {
      "cell_type": "code",
      "metadata": {
        "id": "yJBqp7tquijV"
      },
      "source": [
        "import numpy as np\n",
        "import pandas as pd\n",
        "import matplotlib.pyplot as plt\n",
        "import seaborn as sns\n",
        "from sklearn.model_selection import train_test_split\n",
        "import keras\n",
        "from keras import models, layers\n",
        "import tensorflow as tf\n",
        "from sklearn.metrics import confusion_matrix\n",
        "\n",
        "np.set_printoptions(suppress=True)\n",
        "data_df = pd.read_csv('https://github.com/personal-research/MAXI-J1535/raw/main/data/processed/full.csv')"
      ],
      "execution_count": 1,
      "outputs": []
    },
    {
      "cell_type": "code",
      "metadata": {
        "id": "K4gsxCZRv8Sw"
      },
      "source": [
        "data_df = data_df.sample(frac=1) # shuffle the dataframe\n",
        "\n",
        "def normalize(x):\n",
        "    x = (x-min(x))/(max(x)-min(x))\n",
        "    return x\n",
        "\n",
        "# X\n",
        "\n",
        "arr_names =  ['hardness', 'tins', 'disk_norm', 'gammas', 'nthcomp_norms', 'intensities']\n",
        "(hardness, tins, disk_norms, gammas, nthcomp_norms, intensities) = (normalize(np.array(data_df[arr_name])) for arr_name in arr_names)\n",
        "\n",
        "## Stack x values\n",
        "x_vals = np.array([], dtype=np.int64).reshape(0,6)\n",
        "\n",
        "for a, b, c, d, e, f in zip(hardness, tins, disk_norms, gammas, nthcomp_norms, intensities): \n",
        "    new_arr = np.array([float(a), float(b), float(c), float(d), float(e), float(f)])\n",
        "    x_vals = np.vstack([x_vals, new_arr])\n",
        "\n",
        "# Y \n",
        "y_vals = np.array([], dtype=np.float32).reshape(0, 3)\n",
        "\n",
        "freq1s, freq2s, freq3s = (normalize(np.array(data_df[arr_name])) for arr_name in ['first_par1s', 'second_par1s', 'third_par1s'])\n",
        "\n",
        "for freq1, freq2, freq3 in zip(freq1s, freq2s, freq3s): \n",
        "    new_arr = np.array([float(freq1), float(freq2), float(freq3)])\n",
        "    y_vals = np.vstack([y_vals, new_arr])\n",
        "\n",
        "# Train test split\n",
        "X_train, X_test, y_train, y_test = train_test_split(x_vals, y_vals, test_size=0.2)"
      ],
      "execution_count": 17,
      "outputs": []
    },
    {
      "cell_type": "code",
      "metadata": {
        "id": "tYdk1LY-xri-"
      },
      "source": [
        "def get_model():\n",
        "    model = models.Sequential()\n",
        "    model.add(layers.Dense(10, activation='relu')) # fix this line\n",
        "    model.add(layers.Dense(10, activation='relu')) \n",
        "    model.add(layers.Dense(3, activation='linear'))\n",
        "    opt = tf.optimizers.Adam(learning_rate=0.001)\n",
        "    model.compile(optimizer=opt, loss='mse', metrics='mae')\n",
        "\n",
        "    return model"
      ],
      "execution_count": 5,
      "outputs": []
    },
    {
      "cell_type": "code",
      "metadata": {
        "id": "xQKAVvdTxrtk"
      },
      "source": [
        "model = get_model()\n",
        "epochs = 3000\n",
        "history = model.fit(X_train, y_train, validation_split = 0.1, epochs=epochs, batch_size=25, verbose=0)"
      ],
      "execution_count": 32,
      "outputs": []
    },
    {
      "cell_type": "code",
      "metadata": {
        "id": "nS7p5ASd9QKf",
        "colab": {
          "base_uri": "https://localhost:8080/",
          "height": 277
        },
        "outputId": "8ab52c33-c22a-4b54-a531-c487ab9b343e"
      },
      "source": [
        "#Evaluate model\n",
        "hist = history.history\n",
        "epochs_arr = np.array(range(1, epochs+1))\n",
        "\n",
        "train_loss = hist['loss']\n",
        "val_loss = hist['val_loss']\n",
        "\n",
        "train_mae = hist['mae']\n",
        "val_mae = hist['val_mae']\n",
        "\n",
        "# Make plot\n",
        "fig, axs = plt.subplots(1, 2, figsize=(8, 4))\n",
        "plt.rcParams['font.family']='serif'\n",
        "\n",
        "axs[0].plot(epochs_arr, train_loss, label='Train')\n",
        "axs[0].plot(epochs_arr, val_loss, label='Validation')\n",
        "axs[0].set(xlabel='Epoch', ylabel='Loss')\n",
        "axs[0].legend()\n",
        "\n",
        "axs[1].plot(epochs_arr, train_mae, label='Train')\n",
        "axs[1].plot(epochs_arr, val_mae, label='Validation')\n",
        "axs[1].set(xlabel='Epoch', ylabel='MAE')\n",
        "axs[1].legend()\n",
        "\n",
        "for ax in (axs[0], axs[1]):\n",
        "    ax.set(yscale='log')\n",
        "\n",
        "plt.show()"
      ],
      "execution_count": 33,
      "outputs": [
        {
          "output_type": "display_data",
          "data": {
            "image/png": "[encoded data removed]",
            "text/plain": [
              "<Figure size 576x288 with 2 Axes>"
            ]
          },
          "metadata": {
            "needs_background": "light"
          }
        }
      ]
    },
    {
      "cell_type": "code",
      "metadata": {
        "id": "E-kilFPk-JRq",
        "colab": {
          "base_uri": "https://localhost:8080/"
        },
        "outputId": "8362b9a1-b285-4d4c-f657-8895e45c01ce"
      },
      "source": [
        "model = get_model()\n",
        "epochs = 1500\n",
        "history = model.fit(X_train, y_train, validation_split = 0.1, epochs=epochs, batch_size=25, verbose=0)\n",
        "results = model.evaluate(X_test, y_test)\n",
        "\n",
        "predictions = model.predict(X_test)\n",
        "'''\n",
        "y_pred = np.array([]).astype(int)\n",
        "\n",
        "labels = [0, 1, 2, 3]\n",
        "\n",
        "for row in predictions: \n",
        "    idx = np.argmax(row)\n",
        "    y_pred = np.append(y_pred, labels[idx])\n",
        "\n",
        "print(y_pred)\n",
        "'''\n",
        "print(results)"
      ],
      "execution_count": 25,
      "outputs": [
        {
          "output_type": "stream",
          "name": "stdout",
          "text": [
            "2/2 [==============================] - 0s 4ms/step - loss: 0.0070 - mae: 0.0307\n",
            "[0.007011593785136938, 0.03068402037024498]\n"
          ]
        }
      ]
    },
    {
      "cell_type": "code",
      "metadata": {
        "id": "-QtLiRnt3QfX",
        "colab": {
          "base_uri": "https://localhost:8080/"
        },
        "outputId": "334edf13-9bdd-4c90-cd07-ef3eb36cdd8a"
      },
      "source": [
        "print(y_test)\n",
        "print(predictions)"
      ],
      "execution_count": 21,
      "outputs": [
        {
          "output_type": "stream",
          "name": "stdout",
          "text": [
            "[[0.         0.         0.        ]\n",
            " [0.         0.         0.        ]\n",
            " [0.         0.         0.        ]\n",
            " [0.         0.         0.        ]\n",
            " [0.         0.         0.        ]\n",
            " [0.         0.         0.        ]\n",
            " [0.35010847 0.45640422 0.        ]\n",
            " [0.         0.         0.        ]\n",
            " [0.         0.         0.        ]\n",
            " [0.81066296 0.         0.        ]\n",
            " [0.         0.         0.        ]\n",
            " [0.         0.         0.        ]\n",
            " [0.26269904 0.3349727  0.47702596]\n",
            " [0.         0.         0.        ]\n",
            " [0.         0.         0.        ]\n",
            " [0.         0.         0.        ]\n",
            " [0.62876732 0.82877142 0.        ]\n",
            " [0.         0.         0.        ]\n",
            " [0.         0.         0.        ]\n",
            " [0.         0.         0.        ]\n",
            " [0.         0.         0.        ]\n",
            " [0.         0.         0.        ]\n",
            " [0.65717507 0.84728638 0.        ]\n",
            " [0.         0.         0.        ]\n",
            " [0.84729019 0.         0.        ]\n",
            " [0.         0.         0.        ]\n",
            " [0.         0.         0.        ]\n",
            " [0.         0.         0.        ]\n",
            " [0.         0.         0.        ]\n",
            " [0.         0.         0.        ]\n",
            " [0.         0.         0.        ]\n",
            " [0.         0.         0.        ]\n",
            " [0.         0.         0.        ]\n",
            " [0.         0.         0.        ]\n",
            " [0.         0.         0.        ]\n",
            " [0.27761814 0.35010686 0.        ]\n",
            " [0.31697215 0.40417909 0.        ]]\n",
            "[[-0.00363333 -0.00138198  0.00071033]\n",
            " [-0.01248218 -0.00541806 -0.00392882]\n",
            " [-0.02980579 -0.00848049  0.001202  ]\n",
            " [ 0.00229274 -0.00051798  0.00265615]\n",
            " [-0.03108663 -0.01390381 -0.01368249]\n",
            " [-0.00524707 -0.00196664 -0.00019222]\n",
            " [ 0.35365474  0.46370173 -0.00798856]\n",
            " [-0.0188213  -0.00830942 -0.00725219]\n",
            " [-0.02793466 -0.00809798  0.00102646]\n",
            " [ 0.5399178   0.08597039 -0.02045736]\n",
            " [-0.11179107  0.01225832  0.02252739]\n",
            " [-0.0143215   0.02810072  0.05659783]\n",
            " [ 0.20623596  0.28656682  0.07499231]\n",
            " [-0.02997802  0.00913156  0.0175312 ]\n",
            " [ 0.22718336 -0.02888829 -0.01974738]\n",
            " [-0.01065648 -0.00458534 -0.00297166]\n",
            " [ 0.5399261   0.76152265  0.08420885]\n",
            " [-0.02686138  0.00809357  0.01671544]\n",
            " [ 0.00775984  0.00381461  0.00668338]\n",
            " [-0.00336277 -0.00125857  0.00085218]\n",
            " [-0.00551751 -0.00224138 -0.00027748]\n",
            " [ 0.0069262   0.00343437  0.00624633]\n",
            " [ 0.55979604  0.78929996  0.08695031]\n",
            " [ 0.01977422  0.00678064  0.01139498]\n",
            " [ 0.6759775   0.1336067  -0.02878745]\n",
            " [-0.00476686 -0.00133341 -0.00009513]\n",
            " [ 0.33168733  0.01377907 -0.02099909]\n",
            " [-0.0042669   0.19686955  0.04029271]\n",
            " [-0.00083057 -0.0001036   0.00217972]\n",
            " [-0.01600087 -0.00702299 -0.00577354]\n",
            " [-0.00490024 -0.00195983  0.00004613]\n",
            " [-0.00403431 -0.00765413 -0.00334429]\n",
            " [-0.00645496 -0.01483425 -0.00844939]\n",
            " [-0.01645865 -0.00723178 -0.00601354]\n",
            " [ 0.4900934   0.08256627 -0.02434996]\n",
            " [ 0.23394693  0.31735164  0.06311554]\n",
            " [ 0.30870587  0.39059845  0.02894303]]\n"
          ]
        }
      ]
    },
    {
      "cell_type": "code",
      "metadata": {
        "id": "Kd3Xb1-URoO-",
        "outputId": "7f0f12ec-668a-4f90-d613-d79ef9822064",
        "colab": {
          "base_uri": "https://localhost:8080/",
          "height": 277
        }
      },
      "source": [
        "flat_y_test = y_test.flatten()\n",
        "flat_y_pred = predictions.flatten()\n",
        "\n",
        "x_line = np.linspace(min(flat_y_test), max(flat_y_test), 3)\n",
        "\n",
        "plt.scatter(flat_y_test, flat_y_pred)\n",
        "plt.plot(x_line, x_line, label='1:1')\n",
        "plt.xlabel('y true')\n",
        "plt.ylabel('y predicted')\n",
        "plt.legend()\n",
        "\n",
        "plt.show()"
      ],
      "execution_count": 26,
      "outputs": [
        {
          "output_type": "display_data",
          "data": {
            "image/png": "[encoded data removed]",
            "text/plain": [
              "<Figure size 432x288 with 1 Axes>"
            ]
          },
          "metadata": {
            "needs_background": "light"
          }
        }
      ]
    }
  ]
}