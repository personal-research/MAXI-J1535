{
  "nbformat": 4,
  "nbformat_minor": 0,
  "metadata": {
    "colab": {
      "name": "knn_qpo.ipynb",
      "private_outputs": true,
      "provenance": []
    },
    "kernelspec": {
      "name": "python3",
      "display_name": "Python 3"
    },
    "language_info": {
      "name": "python"
    },
    "accelerator": "GPU"
  },
  "cells": [
    {
      "cell_type": "code",
      "metadata": {
        "id": "Z_1EGcIcTQlq"
      },
      "source": [
        "import pandas as pd\n",
        "import numpy as np\n",
        "import matplotlib.pyplot as plt\n",
        "import seaborn as sns\n",
        "from sklearn.neighbors import KNeighborsClassifier\n",
        "from sklearn.model_selection import train_test_split\n",
        "from sklearn.preprocessing import minmax_scale as normalize\n",
        "from sklearn.metrics import confusion_matrix, accuracy_score\n",
        "\n",
        "np.set_printoptions(suppress=True)\n",
        "pd.set_option(\"display.max_columns\", None, \"display.max_rows\", None)\n",
        "\n",
        "plt.style.use('seaborn-darkgrid')\n",
        "plt.rcParams['font.family']='serif'"
      ],
      "execution_count": null,
      "outputs": []
    },
    {
      "cell_type": "code",
      "metadata": {
        "id": "XanUMB43TeCf"
      },
      "source": [
        "df = pd.read_csv('https://github.com/thissop/MAXI-J1535/raw/main/data/processed/fixed_merged.csv')\n",
        "df = df.sample(frac=1)"
      ],
      "execution_count": null,
      "outputs": []
    },
    {
      "cell_type": "code",
      "metadata": {
        "id": "oAriP_1aZV0O"
      },
      "source": [
        "# pairplot \n",
        "pair_df = df[['hardness','tins','disk_norm','gammas','nthcomp_norms','fit_stats','red_fit_stats','count_rates','bg_ratio','intensities','num_qpos', 'red_fit_stats']]\n",
        "print(pair_df)\n",
        "#sns.pairplot(data=pair_df) # Not working fix this"
      ],
      "execution_count": null,
      "outputs": []
    },
    {
      "cell_type": "code",
      "metadata": {
        "id": "wrTdjXL8UvVK"
      },
      "source": [
        "# Correlation matrix plot\n",
        "corr_df = df[['hardness','tins','disk_norm','gammas','nthcomp_norms','fit_stats','red_fit_stats','count_rates','bg_ratio','intensities','num_qpos']].corr()\n",
        "\n",
        "sns.heatmap(corr_df, cmap='Blues')\n",
        "\n",
        "plt.title('Correlation Matrix\\nMost Correlated: disk_norm ('+r'$r^2=$'+'0.89)')\n",
        "\n",
        "print(corr_df)"
      ],
      "execution_count": null,
      "outputs": []
    },
    {
      "cell_type": "code",
      "metadata": {
        "id": "SeRt0gb6a1jD"
      },
      "source": [
        "# X\n",
        "\n",
        "arr_names =  ['hardness', 'tins', 'disk_norm', 'gammas', 'nthcomp_norms', 'intensities']\n",
        "(hardness, tins, disk_norms, gammas, nthcomp_norms, intensities) = (normalize(np.array(df[arr_name])) for arr_name in arr_names)\n",
        "\n",
        "# Y\n",
        "num_qpos = np.array(df['num_qpos']).reshape(len(df), 1)\n",
        "## Stack x values\n",
        "x_vals = np.array([], dtype=np.int64).reshape(0,6)\n",
        "\n",
        "for a, b, c, d, e, f in zip(hardness, tins, disk_norms, gammas, nthcomp_norms, intensities): \n",
        "    new_arr = np.array([float(a), float(b), float(c), float(d), float(e), float(f)])\n",
        "    x_vals = np.vstack([x_vals, new_arr])\n",
        "\n",
        "# Train test split\n",
        "X_train, X_test, y_train, y_test = train_test_split(x_vals, num_qpos, test_size=0.1)"
      ],
      "execution_count": null,
      "outputs": []
    },
    {
      "cell_type": "code",
      "metadata": {
        "id": "mVzCOKp2bmBa"
      },
      "source": [
        "def knn_predict(k, xtrain, ytrain, xtest, ytest): \n",
        "    knn = KNeighborsClassifier(k)\n",
        "    knn.fit(xtrain, ytrain)\n",
        "    predictions = knn.predict(xtest)\n",
        "    acc = accuracy_score(predictions, ytest.flatten())\n",
        "\n",
        "    return acc, predictions"
      ],
      "execution_count": null,
      "outputs": []
    },
    {
      "cell_type": "code",
      "metadata": {
        "id": "ncKdHTrGb7ox"
      },
      "source": [
        "ks = np.arange(1, 31, 1)\n",
        "accs = np.array([])\n",
        "\n",
        "for k in ks: \n",
        "    acc = knn_predict(k, X_train, y_train, X_test, y_test)[0]\n",
        "    accs = np.append(accs, acc)"
      ],
      "execution_count": null,
      "outputs": []
    },
    {
      "cell_type": "code",
      "metadata": {
        "id": "xIPKQ4MFcM7l"
      },
      "source": [
        "# k vs acc plot\n",
        "plt.scatter(ks, accs)\n",
        "plt.xlabel('k')\n",
        "plt.ylabel('acc')\n",
        "plt.title('K vs Accuracy\\nMost Accurate: k=1-3; acc=0.84')"
      ],
      "execution_count": null,
      "outputs": []
    },
    {
      "cell_type": "code",
      "metadata": {
        "id": "OZ0rHtmtcaQ3"
      },
      "source": [
        "# k=3 confusion matrix\n",
        "y_test = y_test.flatten()\n",
        "\n",
        "acc, predictions = knn_predict(3, X_train, y_train, X_test, y_test)\n",
        "\n",
        "predictions = predictions.flatten()\n",
        "\n",
        "fig, ax = plt.subplots(figsize=(10, 8))\n",
        "plt.rcParams['font.family']='serif'\n",
        "\n",
        "cm = confusion_matrix(y_test.flatten(), predictions)\n",
        "\n",
        "sns.heatmap(cm, annot=True, cmap='Blues', linewidths=.5)\n",
        "plt.xlabel('Actual')\n",
        "plt.ylabel('Predicted')\n",
        "\n",
        "plt.title('Confusion Matrix\\nAccuracy: '+str(round(acc, 3)))\n",
        "plt.show()"
      ],
      "execution_count": null,
      "outputs": []
    }
  ]
}