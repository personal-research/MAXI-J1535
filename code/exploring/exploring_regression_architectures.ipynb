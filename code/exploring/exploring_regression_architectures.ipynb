{
  "nbformat": 4,
  "nbformat_minor": 2,
  "metadata": {
    "orig_nbformat": 4,
    "language_info": {
      "name": "python",
      "version": "3.8.5",
      "mimetype": "text/x-python",
      "codemirror_mode": {
        "name": "ipython",
        "version": 3
      },
      "pygments_lexer": "ipython3",
      "nbconvert_exporter": "python",
      "file_extension": ".py"
    },
    "kernelspec": {
      "name": "python3",
      "display_name": "Python 3.8.5 64-bit"
    },
    "interpreter": {
      "hash": "d3c0f98bc337faacb3dc92d86fb3c3ff5c297fcab3c4973bdf073a6202ea54c1"
    },
    "colab": {
      "name": "exploring_regression_architectures.ipynb",
      "provenance": [],
      "machine_shape": "hm"
    },
    "accelerator": "TPU"
  },
  "cells": [
    {
      "cell_type": "markdown",
      "source": [
        "# Notes\n",
        "* Two possible directions: train a single multi-output regression model (which predicts a matrix of form ```i=[[a1, b1, c1], [a2, b2, c2], [a3, b3, c3]]```, a triplet of multi-output regression models that predict matrices of form ```j=[a, b, c]```, or a set of nine regression models that each predict a value in ```i.flatten()```"
      ],
      "metadata": {
        "id": "lSUl0vjc4zh4"
      }
    },
    {
      "cell_type": "markdown",
      "source": [
        "# Code"
      ],
      "metadata": {
        "id": "hli54IGn5iVe"
      }
    },
    {
      "cell_type": "code",
      "execution_count": null,
      "source": [
        "import numpy as np\r\n",
        "import pandas as pd\r\n",
        "import matplotlib.pyplot as plt\r\n",
        "import seaborn as sns\r\n",
        "from sklearn.model_selection import train_test_split\r\n",
        "import keras\r\n",
        "from keras import models, layers\r\n",
        "import tensorflow as tf\r\n",
        "from sklearn.metrics import confusion_matrix\r\n",
        "\r\n",
        "np.set_printoptions(suppress=True)\r\n",
        "data_df = pd.read_csv('https://github.com/personal-research/MAXI-J1535/raw/main/data/processed/full.csv')"
      ],
      "outputs": [],
      "metadata": {
        "id": "yJBqp7tquijV"
      }
    },
    {
      "cell_type": "code",
      "execution_count": null,
      "source": [
        "data_df = data_df.sample(frac=1) # shuffle the dataframe\r\n",
        "\r\n",
        "def normalize(x):\r\n",
        "    x = (x-min(x))/(max(x)-min(x))\r\n",
        "    return x\r\n",
        "\r\n",
        "# X\r\n",
        "\r\n",
        "arr_names =  ['hardness', 'tins', 'disk_norm', 'gammas', 'nthcomp_norms', 'intensities']\r\n",
        "(hardness, tins, disk_norms, gammas, nthcomp_norms, intensities) = (normalize(np.array(data_df[arr_name])) for arr_name in arr_names)\r\n",
        "\r\n",
        "## Stack x values\r\n",
        "x_vals = np.array([], dtype=np.int64).reshape(0,6)\r\n",
        "\r\n",
        "for a, b, c, d, e, f in zip(hardness, tins, disk_norms, gammas, nthcomp_norms, intensities): \r\n",
        "    new_arr = np.array([float(a), float(b), float(c), float(d), float(e), float(f)])\r\n",
        "    x_vals = np.vstack([x_vals, new_arr])\r\n",
        "\r\n",
        "# Y \r\n",
        "y_vals = np.array([], dtype=np.float32).reshape(0, 3)\r\n",
        "\r\n",
        "freq1s, freq2s, freq3s = (normalize(np.array(data_df[arr_name])) for arr_name in ['first_par1s', 'second_par1s', 'third_par1s'])\r\n",
        "\r\n",
        "for freq1, freq2, freq3 in zip(freq1s, freq2s, freq3s): \r\n",
        "    new_arr = np.array([float(freq1), float(freq2), float(freq3)])\r\n",
        "    y_vals = np.vstack([y_vals, new_arr])\r\n",
        "\r\n",
        "# Train test split\r\n",
        "X_train, X_test, y_train, y_test = train_test_split(x_vals, y_vals, test_size=0.1)"
      ],
      "outputs": [
        {
          "output_type": "stream",
          "name": "stdout",
          "text": [
            "[[0.         0.         0.        ]\n",
            " [0.         0.         0.        ]\n",
            " [0.33129337 0.41779839 0.        ]\n",
            " [0.34626136 0.43667523 0.        ]\n",
            " [0.         0.         0.        ]\n",
            " [0.66447537 0.85669875 0.        ]\n",
            " [0.         0.         0.        ]\n",
            " [0.         0.         0.        ]\n",
            " [0.62185815 0.79294476 0.        ]\n",
            " [0.         0.         0.        ]\n",
            " [0.68686658 0.57557918 0.        ]\n",
            " [0.39100468 0.48768273 0.        ]\n",
            " [0.         0.         0.        ]\n",
            " [0.30327117 0.38245842 0.        ]\n",
            " [0.         0.         0.        ]\n",
            " [0.         0.         0.        ]\n",
            " [0.         0.         0.        ]\n",
            " [0.36190685 0.45640422 0.        ]\n",
            " [0.         0.         0.        ]\n",
            " [0.33497425 0.43667523 0.        ]\n",
            " [0.         0.         0.        ]\n",
            " [0.38245972 0.48768273 0.        ]\n",
            " [0.17455763 0.50411623 1.        ]\n",
            " [0.         0.         0.        ]\n",
            " [0.         0.         0.        ]\n",
            " [0.         0.         0.        ]\n",
            " [0.         0.         0.        ]\n",
            " [0.35792982 0.45640422 0.        ]\n",
            " [0.         0.         0.        ]\n",
            " [0.19068646 0.67185446 0.        ]\n",
            " [0.         0.         0.        ]\n",
            " [0.         0.         0.        ]\n",
            " [0.         0.         0.        ]\n",
            " [0.         0.         0.        ]\n",
            " [0.         0.         0.        ]\n",
            " [0.         0.         0.        ]\n",
            " [0.77561985 0.         0.        ]\n",
            " [0.26269904 0.3349727  0.47702596]\n",
            " [0.         0.         0.        ]\n",
            " [0.         0.         0.        ]\n",
            " [0.         0.         0.        ]\n",
            " [0.         0.         0.        ]\n",
            " [0.         0.         0.        ]\n",
            " [0.36592718 0.47178442 0.        ]\n",
            " [0.         0.         0.        ]\n",
            " [0.         0.         0.        ]\n",
            " [0.         0.         0.        ]\n",
            " [0.18447017 0.3134891  0.60158524]\n",
            " [0.         0.         0.        ]\n",
            " [0.3953477  0.50411623 0.        ]\n",
            " [0.         0.         0.        ]\n",
            " [0.         0.         0.        ]\n",
            " [0.20375464 0.79294476 0.        ]\n",
            " [0.45640564 0.58843792 0.        ]\n",
            " [0.29016108 0.37825599 0.        ]\n",
            " [0.         0.         0.        ]\n",
            " [0.35010847 0.45640422 0.        ]\n",
            " [0.19068646 0.67185446 0.        ]\n",
            " [0.         0.         0.        ]\n",
            " [0.         0.         0.        ]\n",
            " [0.62876732 0.82877142 0.        ]\n",
            " [0.         0.         0.        ]\n",
            " [0.         0.         0.        ]\n",
            " [0.         0.         0.        ]\n",
            " [0.         0.         0.        ]\n",
            " [0.         0.         0.        ]\n",
            " [0.         0.         0.        ]\n",
            " [0.         0.         0.        ]\n",
            " [0.17845643 0.42713265 0.84728732]\n",
            " [0.         0.         0.        ]\n",
            " [0.         0.         0.        ]\n",
            " [0.         0.         0.        ]\n",
            " [0.         0.         0.        ]\n",
            " [0.         0.         0.        ]\n",
            " [0.39100468 0.50971589 0.        ]\n",
            " [0.         0.         0.        ]\n",
            " [0.55070049 0.70220897 0.        ]\n",
            " [0.         0.         0.        ]\n",
            " [0.         0.         0.        ]\n",
            " [0.         0.         0.        ]\n",
            " [0.         0.         0.        ]\n",
            " [0.         0.         0.        ]\n",
            " [0.         0.         0.        ]\n",
            " [0.         0.         0.        ]\n",
            " [0.         0.         0.        ]\n",
            " [0.         0.         0.        ]\n",
            " [0.25413453 0.32405266 0.49310042]\n",
            " [0.         0.         0.        ]\n",
            " [0.25134349 0.32405266 0.        ]\n",
            " [0.         0.         0.        ]\n",
            " [0.         0.         0.        ]\n",
            " [0.77561985 1.         0.        ]\n",
            " [0.         0.         0.        ]\n",
            " [0.         0.         0.        ]\n",
            " [0.27761814 0.35010686 0.        ]\n",
            " [0.         0.         0.        ]\n",
            " [0.65717507 0.84728638 0.        ]\n",
            " [0.         0.         0.        ]\n",
            " [0.         0.         0.        ]\n",
            " [0.         0.         0.        ]\n",
            " [0.         0.         0.        ]\n",
            " [0.         0.         0.        ]\n",
            " [0.20601765 0.83797816 0.        ]\n",
            " [0.         0.         0.        ]\n",
            " [0.         0.         0.        ]\n",
            " [0.         0.         0.        ]\n",
            " [0.34626136 0.44152599 0.        ]\n",
            " [0.         0.         0.        ]\n",
            " [0.30327117 0.38245842 0.        ]\n",
            " [0.         0.         0.        ]\n",
            " [0.         0.         0.        ]\n",
            " [0.         0.         0.        ]\n",
            " [0.43187854 0.53274577 0.        ]\n",
            " [0.         0.         0.        ]\n",
            " [0.         0.         0.        ]\n",
            " [0.         0.         0.        ]\n",
            " [0.81066296 0.         0.        ]\n",
            " [0.         0.         0.        ]\n",
            " [0.         0.         0.        ]\n",
            " [0.         0.         0.        ]\n",
            " [0.         0.         0.        ]\n",
            " [0.         0.         0.        ]\n",
            " [0.         0.         0.        ]\n",
            " [0.         0.         0.        ]\n",
            " [0.         0.         0.        ]\n",
            " [0.         0.         0.        ]\n",
            " [0.         0.         0.        ]\n",
            " [0.         0.         0.        ]\n",
            " [0.         0.         0.        ]\n",
            " [0.38670775 0.4931001  0.        ]\n",
            " [0.         0.         0.        ]\n",
            " [0.         0.         0.        ]\n",
            " [0.         0.         0.        ]\n",
            " [0.         0.         0.        ]\n",
            " [0.48768406 0.62185626 0.        ]\n",
            " [0.         0.         0.        ]\n",
            " [0.25134349 0.32049316 0.        ]\n",
            " [0.62185815 0.80175371 0.        ]\n",
            " [0.87584182 0.         0.        ]\n",
            " [0.         0.         0.        ]\n",
            " [0.25413453 0.32765256 0.49310042]\n",
            " [0.64281334 0.81966524 0.        ]\n",
            " [0.75033561 0.96739521 0.        ]\n",
            " [0.         0.         0.        ]\n",
            " [0.         0.         0.        ]\n",
            " [0.         0.         0.        ]\n",
            " [0.         0.         0.        ]\n",
            " [0.         0.         0.        ]\n",
            " [0.         0.         0.        ]\n",
            " [0.35792982 0.45640422 0.        ]\n",
            " [0.         0.         0.        ]\n",
            " [0.         0.         0.        ]\n",
            " [0.64281334 0.81066054 0.        ]\n",
            " [0.81066296 0.         0.        ]\n",
            " [0.         0.         0.        ]\n",
            " [0.77561985 0.         0.        ]\n",
            " [0.         0.         0.        ]\n",
            " [0.         0.         0.        ]\n",
            " [0.38245972 0.49857764 0.        ]\n",
            " [0.         0.         0.        ]\n",
            " [0.         0.         0.        ]\n",
            " [0.         0.         0.        ]\n",
            " [0.36999222 0.46660052 0.        ]\n",
            " [0.         0.         0.        ]\n",
            " [0.25134349 0.31697137 0.        ]\n",
            " [0.38670775 0.49857764 0.        ]\n",
            " [0.         0.         0.        ]\n",
            " [0.         0.         0.        ]\n",
            " [0.         0.         0.        ]\n",
            " [0.84729019 0.         0.        ]\n",
            " [0.         0.         0.        ]\n",
            " [0.         0.         0.        ]\n",
            " [1.         0.         0.        ]\n",
            " [0.         0.         0.        ]\n",
            " [0.         0.         0.        ]\n",
            " [0.         0.         0.        ]\n",
            " [0.74209099 0.         0.        ]\n",
            " [0.         0.         0.        ]\n",
            " [0.         0.         0.        ]\n",
            " [0.31697215 0.40417909 0.        ]\n",
            " [0.         0.         0.        ]\n",
            " [0.         0.         0.        ]\n",
            " [0.         0.         0.        ]\n",
            " [0.         0.         0.        ]]\n"
          ]
        }
      ],
      "metadata": {
        "id": "K4gsxCZRv8Sw",
        "colab": {
          "base_uri": "https://localhost:8080/"
        },
        "outputId": "24a3f026-605e-41f0-f6c6-ceca257b1a06"
      }
    },
    {
      "cell_type": "code",
      "execution_count": null,
      "source": [
        "def get_model():\r\n",
        "    model = models.Sequential()\r\n",
        "    model.add(layers.Dense(10, activation='relu')) # fix this line\r\n",
        "    model.add(layers.Dense(10, activation='relu')) \r\n",
        "    model.add(layers.Dense(3), activation='linear')\r\n",
        "    opt = tf.optimizers.Adam(learning_rate=0.001)\r\n",
        "    model.compile(optimizer=opt, loss='mse', metrics='mae')\r\n",
        "\r\n",
        "    return model"
      ],
      "outputs": [],
      "metadata": {
        "id": "tYdk1LY-xri-"
      }
    },
    {
      "cell_type": "code",
      "execution_count": null,
      "source": [
        "model = get_model()\r\n",
        "epochs = 1000\r\n",
        "history = model.fit(X_train, y_train, validation_split = 0.1, epochs=epochs, batch_size=25, verbose=0)"
      ],
      "outputs": [],
      "metadata": {
        "id": "xQKAVvdTxrtk"
      }
    },
    {
      "cell_type": "code",
      "execution_count": null,
      "source": [
        "#Evaluate model\r\n",
        "hist = history.history\r\n",
        "epochs_arr = np.array(range(1, epochs+1))\r\n",
        "\r\n",
        "train_loss = hist['loss']\r\n",
        "val_loss = hist['val_loss']\r\n",
        "\r\n",
        "train_mae = hist['mae']\r\n",
        "val_mae = hist['val_mae']\r\n",
        "\r\n",
        "# Make plot\r\n",
        "fig, axs = plt.subplots(1, 2, figsize=(8, 4))\r\n",
        "plt.rcParams['font.family']='serif'\r\n",
        "\r\n",
        "axs[0].plot(epochs_arr, train_loss, label='Train')\r\n",
        "axs[0].plot(epochs_arr, val_loss, label='Validation')\r\n",
        "axs[0].set(xlabel='Epoch', ylabel='Loss')\r\n",
        "axs[0].legend()\r\n",
        "\r\n",
        "axs[1].plot(epochs_arr, train_mae, label='Train')\r\n",
        "axs[1].plot(epochs_arr, val_mae, label='Validation')\r\n",
        "axs[1].set(xlabel='Epoch', ylabel='MAE')\r\n",
        "axs[1].legend()\r\n",
        "\r\n",
        "plt.show()"
      ],
      "outputs": [
        {
          "output_type": "display_data",
          "data": {
            "image/png": "[encoded data removed]",
            "text/plain": [
              "<Figure size 576x288 with 2 Axes>"
            ]
          },
          "metadata": {
            "needs_background": "light"
          }
        }
      ],
      "metadata": {
        "id": "nS7p5ASd9QKf",
        "colab": {
          "base_uri": "https://localhost:8080/",
          "height": 277
        },
        "outputId": "1eab464f-0592-4157-fe0c-4b942c3d5033"
      }
    },
    {
      "cell_type": "code",
      "execution_count": null,
      "source": [
        "model = get_model()\n",
        "epochs = 250\n",
        "history = model.fit(X_train, y_train, validation_split = 0.1, epochs=epochs, batch_size=25, verbose=0)\n",
        "results = model.evaluate(X_test, y_test)\n",
        "\n",
        "predictions = model.predict(X_test)\n",
        "'''\n",
        "y_pred = np.array([]).astype(int)\n",
        "\n",
        "labels = [0, 1, 2, 3]\n",
        "\n",
        "for row in predictions: \n",
        "    idx = np.argmax(row)\n",
        "    y_pred = np.append(y_pred, labels[idx])\n",
        "\n",
        "print(y_pred)\n",
        "'''\n",
        "print(results)"
      ],
      "outputs": [
        {
          "output_type": "stream",
          "name": "stdout",
          "text": [
            "1/1 [==============================] - 0s 16ms/step - loss: 0.0210 - mae: 0.0787\n",
            "[0.02102377638220787, 0.07868475466966629]\n"
          ]
        }
      ],
      "metadata": {
        "id": "E-kilFPk-JRq",
        "colab": {
          "base_uri": "https://localhost:8080/"
        },
        "outputId": "e6a095ad-e4c1-42ad-ca08-1b4e27fb8ca9"
      }
    },
    {
      "cell_type": "code",
      "execution_count": null,
      "source": [
        "print(y_test)\n",
        "print(predictions)"
      ],
      "outputs": [
        {
          "output_type": "stream",
          "name": "stdout",
          "text": [
            "[[0.17455763 0.50411623 1.        ]\n",
            " [0.         0.         0.        ]\n",
            " [0.         0.         0.        ]\n",
            " [0.36999222 0.46660052 0.        ]\n",
            " [0.         0.         0.        ]\n",
            " [0.27761814 0.35010686 0.        ]\n",
            " [0.30327117 0.38245842 0.        ]\n",
            " [0.19068646 0.67185446 0.        ]\n",
            " [0.         0.         0.        ]\n",
            " [0.         0.         0.        ]\n",
            " [0.         0.         0.        ]\n",
            " [0.         0.         0.        ]\n",
            " [0.         0.         0.        ]\n",
            " [0.         0.         0.        ]\n",
            " [0.         0.         0.        ]\n",
            " [0.         0.         0.        ]\n",
            " [0.48768406 0.62185626 0.        ]\n",
            " [0.         0.         0.        ]\n",
            " [0.         0.         0.        ]]\n",
            "[[ 0.4857859 ]\n",
            " [-0.00184246]\n",
            " [ 0.00005688]\n",
            " [ 0.2774638 ]\n",
            " [ 0.00005418]\n",
            " [ 0.2586884 ]\n",
            " [ 0.29110003]\n",
            " [ 0.3350851 ]\n",
            " [ 0.00220823]\n",
            " [-0.01421229]\n",
            " [-0.00306773]\n",
            " [ 0.00150108]\n",
            " [ 0.0007011 ]\n",
            " [-0.00048358]\n",
            " [-0.00050429]\n",
            " [ 0.07870494]\n",
            " [ 0.3832907 ]\n",
            " [ 0.14818472]\n",
            " [-0.00713205]]\n"
          ]
        }
      ],
      "metadata": {
        "id": "-QtLiRnt3QfX",
        "colab": {
          "base_uri": "https://localhost:8080/"
        },
        "outputId": "67f05115-8b97-4089-85af-ee79d56bf1b3"
      }
    }
  ]
}