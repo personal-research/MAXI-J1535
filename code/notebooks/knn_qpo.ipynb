{
  "cells": [
    {
      "cell_type": "markdown",
      "metadata": {
        "id": "qGXwEUw1w1sN"
      },
      "source": [
        "# Notes\n",
        "* Is my method of testing it on iterations of new train test splits canonical or bad? \n",
        "* Is it possible to do gradient descent with an algorithm such as Levenberg-Marquart in $n$-dimensions? If so could that be applied to hyperparameter tuning, where $z(x_1, x_2,...x_n)$ is the mean loss function being optimized based on $x$ hyperparameter arrays? \n",
        "* Is there such a thing as multi-output linear regression? \n",
        "* How correlated are QPO properties with eachother? I should look into this. \n",
        "* I think I need to re do this testing scheme because re-splitting on each test could confound the results.\n",
        "* Paper which seems to do similiar testing scheme: `https://arxiv.org/pdf/1903.07167.pdf` "
      ]
    },
    {
      "cell_type": "code",
      "execution_count": 50,
      "metadata": {
        "id": "Z_1EGcIcTQlq"
      },
      "outputs": [],
      "source": [
        "import pandas as pd\n",
        "import numpy as np\n",
        "import matplotlib.pyplot as plt\n",
        "import seaborn as sns\n",
        "import os\n",
        "from sklearn.neighbors import KNeighborsClassifier\n",
        "from sklearn.model_selection import train_test_split\n",
        "from sklearn.preprocessing import minmax_scale as normalize\n",
        "from sklearn.metrics import confusion_matrix, accuracy_score\n",
        "\n",
        "np.set_printoptions(suppress=True)\n",
        "pd.set_option(\"display.max_columns\", None, \"display.max_rows\", None)\n",
        "\n",
        "plt.style.use('seaborn-darkgrid')\n",
        "plt.rcParams['font.family']='serif'"
      ]
    },
    {
      "cell_type": "code",
      "execution_count": 48,
      "metadata": {
        "colab": {
          "base_uri": "https://localhost:8080/"
        },
        "id": "A0A1L8bi12w3",
        "outputId": "a281ab6a-15c1-4a6b-e6a7-a574a07c5363"
      },
      "outputs": [
        {
          "name": "stdout",
          "output_type": "stream",
          "text": [
            "Mounted at /content/gdrive\n"
          ]
        }
      ],
      "source": [
        "from google.colab import drive\n",
        "drive.mount('/content/gdrive')"
      ]
    },
    {
      "cell_type": "code",
      "execution_count": 51,
      "metadata": {
        "id": "-VQNxkmv1-XV"
      },
      "outputs": [],
      "source": [
        "with open('/content/gdrive/My Drive/Colab Outputs/Hyperparameter Tuning/file.txt', 'w') as f:\n",
        "  f.write('content')"
      ]
    },
    {
      "cell_type": "code",
      "execution_count": null,
      "metadata": {
        "id": "XanUMB43TeCf"
      },
      "outputs": [],
      "source": [
        "df = pd.read_csv('https://github.com/thissop/MAXI-J1535/raw/main/data/processed/fixed_merged.csv')\n",
        "df = df.sample(frac=1)"
      ]
    },
    {
      "cell_type": "code",
      "execution_count": null,
      "metadata": {
        "id": "oAriP_1aZV0O"
      },
      "outputs": [],
      "source": [
        "# pairplot \n",
        "pair_df = df[['hardness','tins','disk_norm','gammas','nthcomp_norms','fit_stats','red_fit_stats','count_rates','bg_ratio','intensities','num_qpos', 'red_fit_stats']]\n",
        "print(pair_df)\n",
        "#sns.pairplot(data=pair_df) # Not working fix this"
      ]
    },
    {
      "cell_type": "code",
      "execution_count": null,
      "metadata": {
        "id": "wrTdjXL8UvVK"
      },
      "outputs": [],
      "source": [
        "# Correlation matrix plot\n",
        "corr_df = df[['hardness','tins','disk_norm','gammas','nthcomp_norms','fit_stats','red_fit_stats','count_rates','bg_ratio','intensities','num_qpos']].corr()\n",
        "\n",
        "sns.heatmap(corr_df, cmap='Blues')\n",
        "\n",
        "plt.title('Correlation Matrix\\nMost Correlated: disk_norm ('+r'$r^2=$'+'0.89)')\n",
        "\n",
        "print(corr_df)"
      ]
    },
    {
      "cell_type": "code",
      "execution_count": null,
      "metadata": {
        "id": "SeRt0gb6a1jD"
      },
      "outputs": [],
      "source": [
        "# X\n",
        "\n",
        "arr_names =  ['hardness', 'tins', 'disk_norm', 'gammas', 'nthcomp_norms', 'intensities']\n",
        "(hardness, tins, disk_norms, gammas, nthcomp_norms, intensities) = (normalize(np.array(df[arr_name])) for arr_name in arr_names)\n",
        "\n",
        "# Y\n",
        "num_qpos = np.array(df['num_qpos']).reshape(len(df), 1)\n",
        "## Stack x values\n",
        "x_vals = np.array([], dtype=np.int64).reshape(0,6)\n",
        "\n",
        "for a, b, c, d, e, f in zip(hardness, tins, disk_norms, gammas, nthcomp_norms, intensities): \n",
        "    new_arr = np.array([float(a), float(b), float(c), float(d), float(e), float(f)])\n",
        "    x_vals = np.vstack([x_vals, new_arr])\n",
        "\n",
        "def split_data(): \n",
        "    # Train test split\n",
        "    X_train, X_test, y_train, y_test = train_test_split(x_vals, num_qpos, test_size=0.1)\n",
        "    return X_train, X_test, y_train, y_test"
      ]
    },
    {
      "cell_type": "code",
      "execution_count": null,
      "metadata": {
        "id": "mVzCOKp2bmBa"
      },
      "outputs": [],
      "source": [
        "def knn_predict(k, xtrain, ytrain, xtest, ytest): \n",
        "    knn = KNeighborsClassifier(k)\n",
        "    knn.fit(xtrain, ytrain)\n",
        "    predictions = knn.predict(xtest)\n",
        "    acc = accuracy_score(predictions, ytest.flatten())\n",
        "\n",
        "    return acc, predictions"
      ]
    },
    {
      "cell_type": "code",
      "execution_count": null,
      "metadata": {
        "id": "ncKdHTrGb7ox"
      },
      "outputs": [],
      "source": [
        "ks = np.arange(1, 31, 1)\n",
        "accs = np.array([])\n",
        "\n",
        "for k in ks: \n",
        "    X_train, X_test, y_train, y_test = split_data()\n",
        "    acc = knn_predict(k, X_train, np.ravel(y_train), X_test, y_test)[0]\n",
        "    accs = np.append(accs, acc)"
      ]
    },
    {
      "cell_type": "code",
      "execution_count": null,
      "metadata": {
        "id": "xIPKQ4MFcM7l"
      },
      "outputs": [],
      "source": [
        "# k vs acc plot\n",
        "plt.scatter(ks, accs)\n",
        "plt.xlabel('k')\n",
        "plt.ylabel('acc')\n",
        "plt.title('K vs Accuracy\\nMost Accurate: k=1-3; acc=0.84')"
      ]
    },
    {
      "cell_type": "code",
      "execution_count": null,
      "metadata": {
        "id": "OZ0rHtmtcaQ3"
      },
      "outputs": [],
      "source": [
        "# k=3 confusion matrix\n",
        "y_test = y_test.flatten()\n",
        "\n",
        "acc, predictions = knn_predict(7, X_train, y_train, X_test, y_test)\n",
        "\n",
        "predictions = predictions.flatten()\n",
        "\n",
        "fig, ax = plt.subplots(figsize=(10, 8))\n",
        "plt.rcParams['font.family']='serif'\n",
        "\n",
        "cm = confusion_matrix(y_test.flatten(), predictions)\n",
        "\n",
        "sns.heatmap(cm, annot=True, cmap='Blues', linewidths=.5)\n",
        "plt.xlabel('Actual')\n",
        "plt.ylabel('Predicted')\n",
        "\n",
        "plt.title('Confusion Matrix\\nAccuracy: '+str(round(acc, 3)))\n",
        "plt.show()"
      ]
    },
    {
      "cell_type": "markdown",
      "metadata": {
        "id": "hvLSz6znNLQ1"
      },
      "source": [
        "## K tuning"
      ]
    },
    {
      "cell_type": "code",
      "execution_count": null,
      "metadata": {
        "id": "fOSbKmyuNKl6"
      },
      "outputs": [],
      "source": [
        "ks = np.arange(1, 9, 1)\n",
        "accs = np.array([], dtype=np.float32).reshape(0, 100)\n",
        "\n",
        "for k_idx, k in enumerate(ks): \n",
        "    current_accs = np.array([])\n",
        "    for i in range(100): \n",
        "        X_train, X_test, y_train, y_test = split_data()\n",
        "        acc = knn_predict(k, X_train, np.ravel(y_train), X_test, y_test)[0]\n",
        "        current_accs = np.append(current_accs, acc)\n",
        "\n",
        "    accs = np.vstack((accs, current_accs))"
      ]
    },
    {
      "cell_type": "code",
      "execution_count": null,
      "metadata": {
        "id": "8jA0cld7N4n_"
      },
      "outputs": [],
      "source": [
        "for k, acc_row in zip(ks, accs): \n",
        "    print(k, np.mean(acc_row), np.std(acc_row))"
      ]
    },
    {
      "cell_type": "markdown",
      "metadata": {
        "id": "sY1xckHTQcVV"
      },
      "source": [
        "## Parameter Searching"
      ]
    },
    {
      "cell_type": "code",
      "execution_count": null,
      "metadata": {
        "id": "jNjl2eqYT6RW"
      },
      "outputs": [],
      "source": [
        "import numpy as np\n",
        "import pandas as pd\n",
        "import matplotlib.pyplot as plt\n",
        "import seaborn as sns\n",
        "from sklearn.model_selection import train_test_split\n",
        "import keras\n",
        "from keras import models, layers\n",
        "import tensorflow as tf\n",
        "from sklearn.metrics import confusion_matrix\n",
        "from keras.layers import Input, Dense\n",
        "from keras.models import Model\n",
        "from sklearn.neighbors import KNeighborsClassifier\n",
        "from sklearn.metrics import confusion_matrix, accuracy_score, mean_squared_error, median_absolute_error\n",
        "from scipy.stats import linregress\n",
        "from google.colab import files\n",
        "\n",
        "np.set_printoptions(suppress=True)"
      ]
    },
    {
      "cell_type": "code",
      "execution_count": null,
      "metadata": {
        "id": "rbzxECDRU5-l"
      },
      "outputs": [],
      "source": [
        "combined_df = pd.read_csv('https://raw.githubusercontent.com/thissop/MAXI-J1535/main/data/processed/fixed_merged.csv')\n",
        "\n",
        "combined_df = combined_df.sample(frac=1) # shuffle the dataframe\n",
        "\n",
        "def normalize(x):\n",
        "    x = (x-min(x))/(max(x)-min(x))\n",
        "    return x\n",
        "\n",
        "# X\n",
        "\n",
        "arr_names =  ['hardness', 'tins', 'disk_norm', 'gammas', 'nthcomp_norms', 'intensities']\n",
        "(hardness, tins, disk_norms, gammas, nthcomp_norms, intensities) = (normalize(np.array(combined_df[arr_name])) for arr_name in arr_names)\n",
        "\n",
        "## Stack x values\n",
        "x_vals = np.array([], dtype=np.int64).reshape(0,6) # why are they type int\n",
        "\n",
        "for a, b, c, d, e, f in zip(hardness, tins, disk_norms, gammas, nthcomp_norms, intensities): \n",
        "    new_arr = np.array([float(a), float(b), float(c), float(d), float(e), float(f)])\n",
        "    x_vals = np.vstack([x_vals, new_arr])\n",
        "\n",
        "# num QPOS\n",
        "num_qpos = np.array(combined_df['num_qpos']).reshape(len(combined_df), 1).astype(int)\n",
        "\n",
        "# Y \n",
        "y_vals = np.array([], dtype=np.float32).reshape(0, 3)\n",
        "\n",
        "freq1s, freq2s, freq3s = (normalize(np.array(combined_df[arr_name])) for arr_name in ['first_par1s', 'second_par1s', 'third_par1s'])\n",
        "\n",
        "for freq1, freq2, freq3 in zip(freq1s, freq2s, freq3s): \n",
        "    new_arr = np.array([float(freq1), float(freq2), float(freq3)])\n",
        "    y_vals = np.vstack([y_vals, new_arr])"
      ]
    },
    {
      "cell_type": "code",
      "execution_count": 62,
      "metadata": {
        "id": "7LZ6cJALQd19"
      },
      "outputs": [],
      "source": [
        "def split_data(x_vals, y_vals, num_qpos): \n",
        "        # Train test split\n",
        "        X_train, X_test, y_train, y_test, qpo_train, qpo_test = train_test_split(x_vals, y_vals, num_qpos, test_size=0.1)\n",
        "        return X_train, X_test, y_train, y_test, qpo_train, qpo_test\n",
        "        \n",
        "def get_model(num_neurons, num_layers, lr): \n",
        "    model = models.Sequential()\n",
        "    \n",
        "    model.add(layers.Dense(num_neurons, activation='relu')) \n",
        "\n",
        "    if num_layers == 2: \n",
        "        model.add(layers.Dense(num_neurons, activation='relu')) \n",
        "    \n",
        "    model.add(layers.Dense(3, activation='linear'))\n",
        "    opt = tf.optimizers.Adam(learning_rate=lr)\n",
        "    model.compile(optimizer=opt, loss='mse', metrics='mae')\n",
        "    return model\n",
        "\n",
        "def early_stop_model(num_neurons, num_layers, lr, patience_val): \n",
        "\n",
        "    callback = tf.keras.callbacks.EarlyStopping(monitor='loss', patience=patience_val, verbose=0, mode='auto', restore_best_weights=True)\n",
        "    model = models.Sequential()\n",
        "    \n",
        "    model.add(layers.Dense(num_neurons, activation='relu')) \n",
        "\n",
        "    if num_layers == 2: \n",
        "        model.add(layers.Dense(num_neurons, activation='relu')) \n",
        "    \n",
        "    model.add(layers.Dense(3, activation='linear'))\n",
        "    opt = tf.optimizers.Adam(learning_rate=lr)\n",
        "    model.compile(optimizer=opt, loss='mse', metrics='mae')\n",
        "    \n",
        "    return model\n",
        "\n",
        "\n",
        "def knn_predict(k, xtrain, ytrain, xtest): \n",
        "        knn = KNeighborsClassifier(k)\n",
        "        knn.fit(xtrain, ytrain)\n",
        "        predictions = knn.predict(xtest)\n",
        "        return predictions\n",
        "\n",
        "def cullBuffers(x, qpo_classes):\n",
        "    new_x = np.array([], dtype=np.float64).reshape(0,3)\n",
        "    for x_row, qpo_class in zip(x, qpo_classes): \n",
        "        if qpo_class == 0: \n",
        "            new_x = np.vstack([new_x, np.zeros(3)])\n",
        "\n",
        "        elif qpo_class == 1:\n",
        "            new_x = np.vstack([new_x, [x_row[0], 0, 0]])\n",
        "\n",
        "        elif qpo_class == 2: \n",
        "            new_x = np.vstack([new_x, [x_row[0], x_row[1], 0]])\n",
        "\n",
        "        elif qpo_class == 3: \n",
        "            new_x = np.vstack([new_x, x_row[0:3]])\n",
        "\n",
        "    return new_x\n",
        "\n",
        "def run_model(x_vals, y_vals, num_qpos, num_epochs, minibatch_size, num_neurons, num_layers, lr): \n",
        "    \n",
        "    mse_arr = np.array([])\n",
        "    mae_arr = np.array([])\n",
        "\n",
        "    for i in range(3): \n",
        "\n",
        "        X_train, X_test, y_train, y_test, qpo_train, qpo_test = split_data(x_vals, y_vals, num_qpos) \n",
        "\n",
        "        reg_model = get_model(num_neurons, num_layers, lr)\n",
        "        history = reg_model.fit(X_train, y_train, validation_split = 0.1, epochs=num_epochs, batch_size=minibatch_size, verbose=0)\n",
        "        \n",
        "        \n",
        "        regress_predictions = reg_model.predict(X_test) \n",
        "        class_predictions = knn_predict(2, X_train, np.ravel(qpo_train), X_test)\n",
        "        predictions = cullBuffers(regress_predictions, class_predictions)\n",
        "\n",
        "        flat_y_test = y_test.flatten()\n",
        "        flat_y_pred = predictions.flatten()\n",
        "\n",
        "\n",
        "        mse = mean_squared_error(flat_y_test, flat_y_pred)\n",
        "        mae = median_absolute_error(flat_y_test, flat_y_pred)\n",
        "\n",
        "        mse_arr = np.append(mse_arr, mse)\n",
        "        mae_arr = np.append(mae_arr, mae)\n",
        "\n",
        "\n",
        "    return np.mean(mse_arr), np.mean(mae_arr)\n",
        "\n",
        "def run_earlystop_test(x_vals, y_vals, num_qpos, num_epochs, minibatch_size, num_neurons, num_layers, lr):\n",
        "    mse_arr = np.array([])\n",
        "    mae_arr = np.array([])\n",
        "\n",
        "    for i in range(2): \n",
        "\n",
        "        X_train, X_test, y_train, y_test, qpo_train, qpo_test = split_data(x_vals, y_vals, num_qpos) \n",
        "\n",
        "        reg_model = early_stop_model(num_neurons, num_layers, lr, 50)\n",
        "        history = reg_model.fit(X_train, y_train, validation_split = 0.1, epochs=num_epochs, batch_size=minibatch_size, verbose=0)\n",
        "        \n",
        "        regress_predictions = reg_model.predict(X_test) \n",
        "        class_predictions = knn_predict(2, X_train, np.ravel(qpo_train), X_test)\n",
        "        predictions = cullBuffers(regress_predictions, class_predictions)\n",
        "\n",
        "        flat_y_test = y_test.flatten()\n",
        "        flat_y_pred = predictions.flatten()\n",
        "\n",
        "        mse = mean_squared_error(flat_y_test, flat_y_pred)\n",
        "        mae = median_absolute_error(flat_y_test, flat_y_pred)\n",
        "\n",
        "        mse_arr = np.append(mse_arr, mse)\n",
        "        mae_arr = np.append(mae_arr, mae)\n",
        "\n",
        "    return np.mean(mse_arr), np.mean(mae_arr)\n",
        "\n",
        "def run_earlystop(x_vals, y_vals, num_qpos, num_epochs, minibatch_size, num_neurons, num_layers, lr):\n",
        "    \n",
        "    X_train, X_test, y_train, y_test, qpo_train, qpo_test = split_data(x_vals, y_vals, num_qpos) \n",
        "\n",
        "    reg_model = early_stop_model(num_neurons, num_layers, lr, 50)\n",
        "    history = reg_model.fit(X_train, y_train, validation_split = 0.1, epochs=num_epochs, batch_size=minibatch_size, verbose=0)\n",
        "    \n",
        "    regress_predictions = reg_model.predict(X_test) \n",
        "    class_predictions = knn_predict(2, X_train, np.ravel(qpo_train), X_test)\n",
        "    predictions = cullBuffers(regress_predictions, class_predictions)\n",
        "\n",
        "    flat_y_test = y_test.flatten()\n",
        "    flat_y_pred = predictions.flatten()\n",
        "\n",
        "    mse = mean_squared_error(flat_y_test, flat_y_pred)\n",
        "    mae = median_absolute_error(flat_y_test, flat_y_pred)\n",
        "\n",
        "\n",
        "    return mse, mae_arr, flat_y_test, flat_y_pred, history\n"
      ]
    },
    {
      "cell_type": "code",
      "execution_count": null,
      "metadata": {
        "id": "ieCs8iLTZst2"
      },
      "outputs": [],
      "source": [
        "batch_sizes = [4, 8, 16, 32]\n",
        "learning_rates = [0.1, 0.01, 0.001] \n",
        "layer_nums = [1, 2] \n",
        "layer_neurons = [4, 8, 12, 16]"
      ]
    },
    {
      "cell_type": "code",
      "execution_count": 56,
      "metadata": {
        "id": "sInIJfooaCul"
      },
      "outputs": [],
      "source": [
        "permutations = np.array([]).reshape(0, 4)\n",
        "\n",
        "for bs in batch_sizes:\n",
        "    for lr in learning_rates: \n",
        "        for ln in layer_nums: \n",
        "            for lneu in layer_neurons: \n",
        "                row = np.array([bs, lr, ln, lneu])\n",
        "                permutations = np.vstack((permutations, row))\n",
        "\n",
        "np.random.shuffle(permutations)"
      ]
    },
    {
      "cell_type": "markdown",
      "metadata": {
        "id": "i0WCZ0OpCEkC"
      },
      "source": [
        "## Early Stopping"
      ]
    },
    {
      "cell_type": "code",
      "execution_count": null,
      "metadata": {
        "id": "CgW37Cp2CF-4"
      },
      "outputs": [],
      "source": [
        "patience_values = np.array([5, 10, 20, 50, 100, 200])\n",
        "total_epochs = np.array([])\n",
        "\n",
        "def early_stop_test(x_vals, y_vals, num_qpos, patience_value): \n",
        "    \n",
        "    callback = tf.keras.callbacks.EarlyStopping(monitor='loss', patience=patience_value, restore_best_weights=True) \n",
        "    \n",
        "    X_train, X_test, y_train, y_test, qpo_train, qpo_test = split_data(x_vals, y_vals, num_qpos) \n",
        "\n",
        "    reg_model = early_stop_model(8, 1, 0.001, patience_value)\n",
        "    history = reg_model.fit(X_train, y_train, validation_split = 0.1, epochs=4000, batch_size=4, verbose=0, callbacks=[callback])\n",
        "\n",
        "    num_epochs = len(history.history['loss'])        \n",
        "    \n",
        "    return num_epochs\n",
        "\n",
        "for pv in patience_values: \n",
        "    numepochs = early_stop_test(x_vals, y_vals, num_qpos, pv)\n",
        "    total_epochs = np.append(total_epochs, numepochs)"
      ]
    },
    {
      "cell_type": "code",
      "execution_count": null,
      "metadata": {
        "colab": {
          "base_uri": "https://localhost:8080/",
          "height": 497
        },
        "id": "cSkM_HT6Ehap",
        "outputId": "0925d0b0-e48c-45b5-b031-854f9b37dedf"
      },
      "outputs": [
        {
          "data": {
            "image/png": "[encoded data removed]",
            "text/plain": [
              "<Figure size 1152x576 with 2 Axes>"
            ]
          },
          "metadata": {
            "needs_background": "light"
          },
          "output_type": "display_data"
        }
      ],
      "source": [
        "model = get_model(8,1,0.001)\n",
        "X_train, X_test, y_train, y_test, qpo_train, qpo_test = split_data(x_vals, y_vals, num_qpos) \n",
        "history = model.fit(X_train, y_train, validation_split = 0.1, epochs=4000, batch_size=4, verbose=0)"
      ]
    },
    {
      "cell_type": "code",
      "execution_count": null,
      "metadata": {
        "colab": {
          "base_uri": "https://localhost:8080/",
          "height": 512
        },
        "id": "Hz79LOEgrjTx",
        "outputId": "05554c6b-007b-403f-a34f-68374d1c49c7"
      },
      "outputs": [
        {
          "name": "stdout",
          "output_type": "stream",
          "text": [
            "[ 222.  390.  408. 1186. 1501.  937.]\n"
          ]
        },
        {
          "data": {
            "image/png": "[encoded data removed]",
            "text/plain": [
              "<Figure size 1152x576 with 2 Axes>"
            ]
          },
          "metadata": {
            "needs_background": "light"
          },
          "output_type": "display_data"
        }
      ],
      "source": [
        "\n",
        "# PLOT IT\n",
        "hist = history.history\n",
        "epochs_arr = np.array(range(1, 4000+1))\n",
        "\n",
        "train_loss = hist['loss']\n",
        "val_loss = hist['val_loss']\n",
        "\n",
        "train_mae = hist['mae']\n",
        "val_mae = hist['val_mae']\n",
        "\n",
        "# Make plot\n",
        "\n",
        "colors = ['b', 'g', 'r', 'c', 'm', 'y']\n",
        "\n",
        "fig, axs = plt.subplots(1, 2, figsize=(16, 8))\n",
        "plt.rcParams['font.family']='serif'\n",
        "\n",
        "axs[0].plot(epochs_arr, train_loss, label='Train')\n",
        "axs[0].plot(epochs_arr, val_loss, label='Validation')\n",
        "        \n",
        "axs[0].set(xlabel='Epoch', ylabel='Loss')\n",
        "\n",
        "axs[1].plot(epochs_arr, train_mae, label='Train')\n",
        "axs[1].plot(epochs_arr, val_mae, label='Validation')\n",
        "axs[1].set(xlabel='Epoch', ylabel='MAE')\n",
        "\n",
        "\n",
        "print(total_epochs)\n",
        "\n",
        "for counter, (es, pv) in enumerate(zip(total_epochs, patience_values)):\n",
        "    for ax in [axs[0], axs[1]]:\n",
        "        ax.axvline(es, label='PE: '+str(pv), color=colors[counter])\n",
        "\n",
        "for ax in (axs[0], axs[1]):\n",
        "    ax.set(yscale='log')\n",
        "    ax.legend(fontsize='small', ncol=4, framealpha=1, fancybox=False)\n",
        "    ax.set(xlim=(0, 5000))\n",
        "\n",
        "plt.show()"
      ]
    },
    {
      "cell_type": "markdown",
      "metadata": {
        "id": "88pDH2k7x_ON"
      },
      "source": [
        "## Actual Parameter Search \n",
        "* Going to set ```patience``` to ```50```\n",
        "* use Successive Halving Iterations in hyperparameter tuning?\n",
        "* Currently using simple hold-out validation, should I use k-fold or iterated k-fold (later is for situations in which one has relatively little data available)  "
      ]
    },
    {
      "cell_type": "code",
      "execution_count": null,
      "metadata": {
        "id": "PyGRl4HoyCEb"
      },
      "outputs": [],
      "source": [
        "for arr_index, sub_arr in enumerate(np.split(permutations, 32)):\n",
        "    evaluations = np.array([]).reshape(0,6)\n",
        "    for row in sub_arr: \n",
        "        mse, mae = run_earlystop_test(x_vals, y_vals, num_qpos, 5000, int(row[0]), int(row[3]), int(row[2]), row[1]) # fix\n",
        "        row = np.concatenate(([mse, mae], row)) # fix\n",
        "        evaluations = np.vstack([evaluations, row])\n",
        "    \n",
        "    sub_results_df = pd.DataFrame(evaluations, columns=['mse', 'mae', 'batch_size', 'learning_rate', 'layer_number', 'neuron_number'])\n",
        "    filename = '/content/gdrive/My Drive/Colab Outputs/Hyperparameter Tuning/'+'sub_arr_results('+str(arr_index)+').csv'\n",
        "    sub_results_df.to_csv(filename, index=False)\n",
        "    #files.download(filename)"
      ]
    },
    {
      "cell_type": "code",
      "execution_count": 64,
      "metadata": {
        "id": "DpxEfNsNwYht"
      },
      "outputs": [],
      "source": [
        "# test one of the best versions\n",
        "mse, mae, y_test_flat, y_pred_flat = run_earlystop(x_vals, y_vals, num_qpos, 5000, 32, 4, 2, 0.01)"
      ]
    },
    {
      "cell_type": "code",
      "execution_count": 66,
      "metadata": {
        "colab": {
          "base_uri": "https://localhost:8080/",
          "height": 274
        },
        "id": "FzQWF6RAxEZ_",
        "outputId": "fe9ee113-83cb-4c1d-986d-248ec2114ffa"
      },
      "outputs": [
        {
          "data": {
            "image/png": "[encoded data removed]",
            "text/plain": [
              "<Figure size 432x288 with 1 Axes>"
            ]
          },
          "metadata": {},
          "output_type": "display_data"
        }
      ],
      "source": [
        "x_line = np.linspace(min(y_test_flat), max(y_test_flat), 3)\n",
        "\n",
        "plt.scatter(y_test_flat, y_pred_flat)\n",
        "plt.plot(x_line, x_line, label='1:1')\n",
        "plt.xlabel('y true')\n",
        "plt.ylabel('y predicted')\n",
        "plt.legend()\n",
        "\n",
        "plt.show()"
      ]
    },
    {
      "cell_type": "code",
      "execution_count": null,
      "metadata": {
        "id": "1e_nP60HGbQL"
      },
      "outputs": [],
      "source": [
        "while True:pass"
      ]
    },
    {
      "cell_type": "markdown",
      "metadata": {
        "id": "cam9DAUyzOqG"
      },
      "source": [
        "## QPO Parameter Correlations\n"
      ]
    },
    {
      "cell_type": "code",
      "execution_count": 67,
      "metadata": {
        "id": "x6h_iwjUzR9G"
      },
      "outputs": [],
      "source": [
        "merged_df = pd.read_csv('https://raw.githubusercontent.com/thissop/MAXI-J1535/main/data/processed/fixed_merged.csv')"
      ]
    },
    {
      "cell_type": "code",
      "execution_count": 73,
      "metadata": {
        "colab": {
          "base_uri": "https://localhost:8080/"
        },
        "id": "R0cnYOSfzZR8",
        "outputId": "ab90e334-cc1d-4edb-95c0-2c34cbd3ba8f"
      },
      "outputs": [
        {
          "name": "stdout",
          "output_type": "stream",
          "text": [
            "112\n"
          ]
        }
      ],
      "source": [
        "freqs = np.concatenate((merged_df['first_par1s'], merged_df['second_par1s'], merged_df['third_par1s']))\n",
        "widths = np.concatenate((merged_df['first_par2s'], merged_df['second_par2s'], merged_df['third_par2s']))\n",
        "norms = np.concatenate((merged_df['first_norms'], merged_df['second_norms'], merged_df['third_norms']))\n",
        "\n",
        "df = pd.DataFrame(list(zip(freqs, widths, norms)), columns=['freq', 'width', 'norm'])\n",
        "\n",
        "df = df.loc[(df!=0).any(axis=1)]"
      ]
    },
    {
      "cell_type": "code",
      "execution_count": 74,
      "metadata": {
        "colab": {
          "base_uri": "https://localhost:8080/",
          "height": 276
        },
        "id": "56P8gtDW0bQi",
        "outputId": "0816ce12-f4ca-43e7-a68b-84a5edcd55d7"
      },
      "outputs": [
        {
          "data": {
            "image/png": "[encoded data removed]",
            "text/plain": [
              "<Figure size 432x288 with 2 Axes>"
            ]
          },
          "metadata": {},
          "output_type": "display_data"
        }
      ],
      "source": [
        "# Correlation matrix plot\n",
        "sns.heatmap(df.corr(), cmap='Blues')\n",
        "\n",
        "plt.title('QPO Correlation Matrix')\n",
        "plt.show()"
      ]
    },
    {
      "cell_type": "code",
      "execution_count": 1,
      "metadata": {
        "colab": {
          "base_uri": "https://localhost:8080/",
          "height": 274
        },
        "id": "EZK_QFyR1Hgd",
        "outputId": "c453d8f4-d56b-4fc2-ecd3-2e8917fae930"
      },
      "outputs": [
        {
          "ename": "NameError",
          "evalue": "name 'plt' is not defined",
          "output_type": "error",
          "traceback": [
            "\u001b[1;31m---------------------------------------------------------------------------\u001b[0m",
            "\u001b[1;31mNameError\u001b[0m                                 Traceback (most recent call last)",
            "\u001b[1;32m~\\AppData\\Local\\Temp/ipykernel_15820/1921383455.py\u001b[0m in \u001b[0;36m<module>\u001b[1;34m\u001b[0m\n\u001b[1;32m----> 1\u001b[1;33m \u001b[0mplt\u001b[0m\u001b[1;33m.\u001b[0m\u001b[0mscatter\u001b[0m\u001b[1;33m(\u001b[0m\u001b[0mfreqs\u001b[0m\u001b[1;33m,\u001b[0m \u001b[0mwidths\u001b[0m\u001b[1;33m)\u001b[0m\u001b[1;33m\u001b[0m\u001b[1;33m\u001b[0m\u001b[0m\n\u001b[0m\u001b[0;32m      2\u001b[0m \u001b[0mplt\u001b[0m\u001b[1;33m.\u001b[0m\u001b[0mxlabel\u001b[0m\u001b[1;33m(\u001b[0m\u001b[1;34m'Frequency'\u001b[0m\u001b[1;33m)\u001b[0m\u001b[1;33m\u001b[0m\u001b[1;33m\u001b[0m\u001b[0m\n\u001b[0;32m      3\u001b[0m \u001b[0mplt\u001b[0m\u001b[1;33m.\u001b[0m\u001b[0mylabel\u001b[0m\u001b[1;33m(\u001b[0m\u001b[1;34m'Width'\u001b[0m\u001b[1;33m)\u001b[0m\u001b[1;33m\u001b[0m\u001b[1;33m\u001b[0m\u001b[0m\n\u001b[0;32m      4\u001b[0m \u001b[0mplt\u001b[0m\u001b[1;33m.\u001b[0m\u001b[0mshow\u001b[0m\u001b[1;33m(\u001b[0m\u001b[1;33m)\u001b[0m\u001b[1;33m\u001b[0m\u001b[1;33m\u001b[0m\u001b[0m\n",
            "\u001b[1;31mNameError\u001b[0m: name 'plt' is not defined"
          ]
        }
      ],
      "source": [
        "plt.scatter(freqs, widths)\n",
        "plt.xlabel('Frequency')\n",
        "plt.ylabel('Width')\n",
        "plt.show()"
      ]
    }
  ],
  "metadata": {
    "accelerator": "TPU",
    "colab": {
      "machine_shape": "hm",
      "name": "knn_qpo.ipynb",
      "provenance": []
    },
    "interpreter": {
      "hash": "d3c0f98bc337faacb3dc92d86fb3c3ff5c297fcab3c4973bdf073a6202ea54c1"
    },
    "kernelspec": {
      "display_name": "Python 3.8.5 64-bit",
      "name": "python3"
    },
    "language_info": {
      "codemirror_mode": {
        "name": "ipython",
        "version": 3
      },
      "file_extension": ".py",
      "mimetype": "text/x-python",
      "name": "python",
      "nbconvert_exporter": "python",
      "pygments_lexer": "ipython3",
      "version": "3.8.5"
    }
  },
  "nbformat": 4,
  "nbformat_minor": 0
}
