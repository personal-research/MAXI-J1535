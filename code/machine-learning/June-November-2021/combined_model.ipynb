{
  "cells": [
    {
      "cell_type": "markdown",
      "metadata": {
        "id": "wGzYQDECQw5W"
      },
      "source": [
        "## Summary\n",
        "\n",
        "* One of the issues I noticed with the previous regression model when I was testing on QPO frequencies was although it could predict Frequencies for true QPOs well, the network was very bad at predicting 0 as the frequency for \"qpos\" that don't exist, i.e. it would predict 0.6 for the frequency of a third qpo when that pds only had two qpos. See this plot: \n",
        "\n",
        "![](https://raw.githubusercontent.com/personal-research/MAXI-J1535/main/archive/images/frequency_regression.png \"Initial Frequency Regression\")\n",
        "\n",
        "* My proposed solution is this: combine the classification model I designed in ```interim.ipynb``` with the regression model I designed in ```exploring_regression_architectures.ipynb```. Since the classification model could predict (with ~85% accuracy) the number of QPOs, what if I make the model predict the number of QPOs first, and then automatically return 0s for outputs of the \"buffer\" qpos. For example, if the model predicts that there is only one qpo, it will only run regression for one frequency and return the frequency array ```[freq, 0, 0]``` rather than attempting to fit something weird for those second two frequencies when they should be zero. "
      ]
    },
    {
      "cell_type": "markdown",
      "metadata": {
        "id": "dc58FTkqQw5h"
      },
      "source": [
        "## Notes on Models for Combined Classification and Regression\n",
        "\n",
        "* [machine learning mastery article](https://machinelearningmastery.com/neural-network-models-for-combined-classification-and-regression/)\n",
        "\n",
        "```python\n",
        "# split into input (X) and output (y) variables\n",
        "X, y = dataset[:, 1:-1], dataset[:, -1]\n",
        "X, y = X.astype('float'), y.astype('float')\n",
        "n_features = X.shape[1]\n",
        "# encode strings to integer\n",
        "y_class = LabelEncoder().fit_transform(y)\n",
        "n_class = len(unique(y_class))\n",
        "# split data into train and test sets\n",
        "X_train, X_test, y_train, y_test, y_train_class, y_test_class = train_test_split(X, y, y_class, test_size=0.33, random_state=1)\n",
        "# input\n",
        "visible = Input(shape=(n_features,))\n",
        "hidden1 = Dense(20, activation='relu', kernel_initializer='he_normal')(visible)\n",
        "hidden2 = Dense(10, activation='relu', kernel_initializer='he_normal')(hidden1)\n",
        "# regression output\n",
        "out_reg = Dense(1, activation='linear')(hidden2)\n",
        "# classification output\n",
        "out_clas = Dense(n_class, activation='softmax')(hidden2)\n",
        "# define model\n",
        "model = Model(inputs=visible, outputs=[out_reg, out_clas])\n",
        "# compile the keras model\n",
        "model.compile(loss=['mse','sparse_categorical_crossentropy'], optimizer='adam')\n",
        "```\n",
        "\n",
        "![](https://machinelearningmastery.com/wp-content/uploads/2021/02/Plot-of-the-Multi-Output-Model-for-Combine-Regression-and-Classification-Predictions.jpg \"Network Flowchart\")\n",
        "\n",
        "## Model Merging in Keras\n",
        "* [stack exchange article](https://datascience.stackexchange.com/questions/26103/merging-two-different-models-in-keras)\n",
        "\n",
        "![](https://i.stack.imgur.com/2xIdb.png \"Network Flowchart\")\n",
        "\n",
        "\n",
        "```python\n",
        "from keras.layers import Input, Dense\n",
        "from keras.models import Model\n",
        "from keras.utils import plot_model\n",
        "A1 = Input(shape=(30,),name='A1')\n",
        "A2 = Dense(8, activation='relu',name='A2')(A1)\n",
        "A3 = Dense(30, activation='relu',name='A3')(A2)\n",
        "\n",
        "B2 = Dense(40, activation='relu',name='B2')(A2)\n",
        "B3 = Dense(30, activation='relu',name='B3')(B2)\n",
        "\n",
        "merged = Model(inputs=[A1],outputs=[A3,B3])\n",
        "```"
      ]
    },
    {
      "cell_type": "markdown",
      "metadata": {
        "id": "nBbAo6zOQw5n"
      },
      "source": [
        "## Update\n",
        "* I think I'll either use a custom layer or custom activation function. Currently pursuing the latter. "
      ]
    },
    {
      "cell_type": "markdown",
      "metadata": {
        "id": "rsFYChh8Qw5q"
      },
      "source": [
        "## Code"
      ]
    },
    {
      "cell_type": "code",
      "execution_count": null,
      "metadata": {
        "colab": {
          "base_uri": "https://localhost:8080/",
          "height": 367
        },
        "id": "6egtSjS-Qw5r",
        "outputId": "ecbbdeb2-4b2f-40ae-ae67-10c584932d28"
      },
      "outputs": [
        {
          "ename": "ImportError",
          "evalue": "ignored",
          "output_type": "error",
          "traceback": [
            "\u001b[0;31m---------------------------------------------------------------------------\u001b[0m",
            "\u001b[0;31mImportError\u001b[0m                               Traceback (most recent call last)",
            "\u001b[0;32m<ipython-input-1-c931b063a4aa>\u001b[0m in \u001b[0;36m<module>\u001b[0;34m()\u001b[0m\n\u001b[1;32m     10\u001b[0m \u001b[0;32mfrom\u001b[0m \u001b[0mkeras\u001b[0m\u001b[0;34m.\u001b[0m\u001b[0mlayers\u001b[0m \u001b[0;32mimport\u001b[0m \u001b[0mInput\u001b[0m\u001b[0;34m,\u001b[0m \u001b[0mDense\u001b[0m\u001b[0;34m\u001b[0m\u001b[0;34m\u001b[0m\u001b[0m\n\u001b[1;32m     11\u001b[0m \u001b[0;32mfrom\u001b[0m \u001b[0mkeras\u001b[0m\u001b[0;34m.\u001b[0m\u001b[0mmodels\u001b[0m \u001b[0;32mimport\u001b[0m \u001b[0mModel\u001b[0m\u001b[0;34m\u001b[0m\u001b[0;34m\u001b[0m\u001b[0m\n\u001b[0;32m---> 12\u001b[0;31m \u001b[0;32mfrom\u001b[0m \u001b[0mkeras\u001b[0m\u001b[0;34m.\u001b[0m\u001b[0mutils\u001b[0m \u001b[0;32mimport\u001b[0m \u001b[0mplot_model\u001b[0m\u001b[0;34m\u001b[0m\u001b[0;34m\u001b[0m\u001b[0m\n\u001b[0m\u001b[1;32m     13\u001b[0m \u001b[0;34m\u001b[0m\u001b[0m\n\u001b[1;32m     14\u001b[0m \u001b[0mnp\u001b[0m\u001b[0;34m.\u001b[0m\u001b[0mset_printoptions\u001b[0m\u001b[0;34m(\u001b[0m\u001b[0msuppress\u001b[0m\u001b[0;34m=\u001b[0m\u001b[0;32mTrue\u001b[0m\u001b[0;34m)\u001b[0m\u001b[0;34m\u001b[0m\u001b[0;34m\u001b[0m\u001b[0m\n",
            "\u001b[0;31mImportError\u001b[0m: cannot import name 'plot_model' from 'keras.utils' (/usr/local/lib/python3.7/dist-packages/keras/utils/__init__.py)",
            "",
            "\u001b[0;31m---------------------------------------------------------------------------\u001b[0;32m\nNOTE: If your import is failing due to a missing package, you can\nmanually install dependencies using either !pip or !apt.\n\nTo view examples of installing some common dependencies, click the\n\"Open Examples\" button below.\n\u001b[0;31m---------------------------------------------------------------------------\u001b[0m\n"
          ]
        }
      ],
      "source": [
        "import numpy as np\n",
        "import pandas as pd\n",
        "import matplotlib.pyplot as plt\n",
        "import seaborn as sns\n",
        "from sklearn.model_selection import train_test_split\n",
        "import keras\n",
        "from keras import models, layers\n",
        "import tensorflow as tf\n",
        "from sklearn.metrics import confusion_matrix\n",
        "from keras.layers import Input, Dense\n",
        "from keras.models import Model\n",
        "\n",
        "np.set_printoptions(suppress=True)\n",
        "data_df = pd.read_csv('https://github.com/personal-research/MAXI-J1535/raw/main/data/processed/full.csv')"
      ]
    },
    {
      "cell_type": "code",
      "execution_count": null,
      "metadata": {
        "id": "Az9UBeaZQw5y"
      },
      "outputs": [],
      "source": [
        "data_df = data_df.sample(frac=1) # shuffle the dataframe\n",
        "\n",
        "def normalize(x):\n",
        "    x = (x-min(x))/(max(x)-min(x))\n",
        "    return x\n",
        "\n",
        "# X\n",
        "\n",
        "arr_names =  ['hardness', 'tins', 'disk_norm', 'gammas', 'nthcomp_norms', 'intensities']\n",
        "(hardness, tins, disk_norms, gammas, nthcomp_norms, intensities) = (normalize(np.array(data_df[arr_name])) for arr_name in arr_names)\n",
        "\n",
        "## Stack x values\n",
        "x_vals = np.array([], dtype=np.int64).reshape(0,6) # why are they type int\n",
        "\n",
        "for a, b, c, d, e, f in zip(hardness, tins, disk_norms, gammas, nthcomp_norms, intensities): \n",
        "    new_arr = np.array([float(a), float(b), float(c), float(d), float(e), float(f)])\n",
        "    x_vals = np.vstack([x_vals, new_arr])\n",
        "\n",
        "# Y \n",
        "y_vals = np.array([], dtype=np.float32).reshape(0, 3)\n",
        "\n",
        "freq1s, freq2s, freq3s = (normalize(np.array(data_df[arr_name])) for arr_name in ['first_par1s', 'second_par1s', 'third_par1s'])\n",
        "\n",
        "for freq1, freq2, freq3 in zip(freq1s, freq2s, freq3s): \n",
        "    new_arr = np.array([float(freq1), float(freq2), float(freq3)])\n",
        "    y_vals = np.vstack([y_vals, new_arr])\n",
        "\n",
        "# Train test split\n",
        "X_train, X_test, y_train, y_test = train_test_split(x_vals, y_vals, test_size=0.2)"
      ]
    },
    {
      "cell_type": "code",
      "execution_count": null,
      "metadata": {
        "id": "EKT6xtavQw53"
      },
      "outputs": [],
      "source": [
        "import numpy as np"
      ]
    },
    {
      "cell_type": "code",
      "execution_count": null,
      "metadata": {
        "id": "XzfHR0nWQw5-"
      },
      "outputs": [],
      "source": [
        "# custom function\n",
        "#from keras import backend as K\n",
        "def cullBuffers(x, qpo_classes): # qpo_classes needs to be determined before hand\n",
        "    new_x = np.array([], dtype=np.float64).reshape(0,3)\n",
        "    for x_row, qpo_class in zip(x, qpo_classes): \n",
        "        if qpo_class == 0: \n",
        "            new_x = np.vstack([new_x, np.zeros(3)])\n",
        "\n",
        "        elif qpo_class == 1:\n",
        "            new_x = np.vstack([new_x, [x_row[0], 0, 0]])\n",
        "\n",
        "        elif qpo_class == 2: \n",
        "            new_x = np.vstack([new_x, [x_row[0], x_row[1], 0]])\n",
        "\n",
        "        elif qpo_class == 3: \n",
        "            new_x = np.vstack([new_x, x_row[0:3]])\n",
        "\n",
        "    return new_x"
      ]
    },
    {
      "cell_type": "code",
      "execution_count": null,
      "metadata": {
        "id": "n5L7rr8AQw6D",
        "outputId": "50c01fd5-15b0-40e3-ccd8-075e22408ed3"
      },
      "outputs": [
        {
          "name": "stdout",
          "output_type": "stream",
          "text": [
            "[[0. 0. 0.]\n",
            " [2. 0. 0.]\n",
            " [3. 3. 0.]\n",
            " [4. 4. 4.]]\n"
          ]
        }
      ],
      "source": [
        "print(cullBuffers([[1., 1., 1.], [2., 2., 2.], [3., 3., 3.], [4., 4., 4.,]], [0, 1, 2, 3]))"
      ]
    },
    {
      "cell_type": "markdown",
      "metadata": {
        "id": "oEokfMrmQw6N"
      },
      "source": [
        "# Two Separate Models Model"
      ]
    },
    {
      "cell_type": "markdown",
      "metadata": {
        "id": "Zud4HjeIbupa"
      },
      "source": [
        "## Notes\n",
        "* Create another correlation matrix? \n",
        "* Move towards combined model with custom layer or activation function?\n",
        "* Should probably read about ensemble models \n",
        "* Look into parameter distributions like red chi lol \n",
        "* So I should also make that plot with histograms and x:y scatter plots\n",
        "\n",
        "### Plan for this model\n",
        "\n",
        "1.   Implement the double model (make sure that train test doesn't leak)     \n",
        "2.   Iterate through lots of configurations of the component models to optimize them for this model\n",
        "\n",
        "\n",
        "\n",
        "\n",
        "\n"
      ]
    },
    {
      "cell_type": "code",
      "execution_count": 1,
      "metadata": {
        "id": "S5Sied1BQw6O"
      },
      "outputs": [],
      "source": [
        "import numpy as np\n",
        "import pandas as pd\n",
        "import matplotlib.pyplot as plt\n",
        "import seaborn as sns\n",
        "from sklearn.model_selection import train_test_split\n",
        "import keras\n",
        "from keras import models, layers\n",
        "import tensorflow as tf\n",
        "from sklearn.metrics import confusion_matrix\n",
        "from keras.layers import Input, Dense\n",
        "from keras.models import Model\n",
        "\n",
        "np.set_printoptions(suppress=True)\n",
        "\n",
        "combined_df = pd.read_csv('https://raw.githubusercontent.com/thissop/MAXI-J1535/main/data/processed/fixed_merged.csv')"
      ]
    },
    {
      "cell_type": "code",
      "execution_count": 11,
      "metadata": {
        "id": "OMwZPsCVREr1"
      },
      "outputs": [],
      "source": [
        "combined_df = combined_df.sample(frac=1) # shuffle the dataframe\n",
        "\n",
        "def normalize(x):\n",
        "    x = (x-min(x))/(max(x)-min(x))\n",
        "    return x\n",
        "\n",
        "# X\n",
        "\n",
        "arr_names =  ['hardness', 'tins', 'disk_norm', 'gammas', 'nthcomp_norms', 'intensities']\n",
        "(hardness, tins, disk_norms, gammas, nthcomp_norms, intensities) = (normalize(np.array(combined_df[arr_name])) for arr_name in arr_names)\n",
        "\n",
        "## Stack x values\n",
        "x_vals = np.array([], dtype=np.int64).reshape(0,6) # why are they type int\n",
        "\n",
        "for a, b, c, d, e, f in zip(hardness, tins, disk_norms, gammas, nthcomp_norms, intensities): \n",
        "    new_arr = np.array([float(a), float(b), float(c), float(d), float(e), float(f)])\n",
        "    x_vals = np.vstack([x_vals, new_arr])\n",
        "\n",
        "# num QPOS\n",
        "num_qpos = np.array(combined_df['num_qpos']).reshape(len(combined_df), 1).astype(int)\n",
        "\n",
        "# Y \n",
        "y_vals = np.array([], dtype=np.float32).reshape(0, 3)\n",
        "\n",
        "freq1s, freq2s, freq3s = (normalize(np.array(combined_df[arr_name])) for arr_name in ['first_par1s', 'second_par1s', 'third_par1s'])\n",
        "\n",
        "for freq1, freq2, freq3 in zip(freq1s, freq2s, freq3s): \n",
        "    new_arr = np.array([float(freq1), float(freq2), float(freq3)])\n",
        "    y_vals = np.vstack([y_vals, new_arr])\n",
        "\n",
        "# Train test split\n",
        "X_train, X_test, y_train, y_test, qpo_train, qpo_test = train_test_split(x_vals, y_vals, num_qpos, test_size=0.1)"
      ]
    },
    {
      "cell_type": "code",
      "execution_count": 3,
      "metadata": {
        "id": "jUTuQnaSYE09"
      },
      "outputs": [],
      "source": [
        "def class_model():\n",
        "    model = models.Sequential()\n",
        "    model.add(layers.Dense(10, activation='relu'))\n",
        "    model.add(layers.Dense(10, activation='relu')) \n",
        "    model.add(layers.Dense(4, activation='softmax'))\n",
        "    model.compile(optimizer='adam', loss='sparse_categorical_crossentropy', metrics=['accuracy'])\n",
        "\n",
        "    return model\n",
        "\n",
        "def regress_model(): \n",
        "    model = models.Sequential()\n",
        "    model.add(layers.Dense(10, activation='relu')) \n",
        "    model.add(layers.Dense(10, activation='relu')) \n",
        "    model.add(layers.Dense(3, activation='linear'))\n",
        "    opt = tf.optimizers.Adam(learning_rate=0.001)\n",
        "    model.compile(optimizer=opt, loss='mse', metrics='mae')\n",
        "\n",
        "    return model\n",
        "\n",
        "def train_combined_model(x_train, y_train, qpo_train, class_epochs, reg_epochs, val_split, batch_size): \n",
        "    classModel = class_model()\n",
        "    class_history = classModel.fit(X_train, qpo_train, validation_split = val_split, epochs=class_epochs, batch_size=batch_size, verbose=0) # val = 0.1, batch size =25 \n",
        "    regressModel = regress_model()\n",
        "    regress_history = regressModel.fit(X_train, y_train, validation_split = val_split, epochs=reg_epochs, batch_size=batch_size, verbose=0)\n",
        "\n",
        "    return classModel, class_history, regressModel, regress_history\n",
        "\n",
        "def combined_predict(classModel, regressModel, x_test): \n",
        "    def cullBuffers(x, qpo_classes):\n",
        "        new_x = np.array([], dtype=np.float64).reshape(0,3)\n",
        "        for x_row, qpo_class in zip(x, qpo_classes): \n",
        "            if qpo_class == 0: \n",
        "                new_x = np.vstack([new_x, np.zeros(3)])\n",
        "\n",
        "            elif qpo_class == 1:\n",
        "                new_x = np.vstack([new_x, [x_row[0], 0, 0]])\n",
        "\n",
        "            elif qpo_class == 2: \n",
        "                new_x = np.vstack([new_x, [x_row[0], x_row[1], 0]])\n",
        "\n",
        "            elif qpo_class == 3: \n",
        "                new_x = np.vstack([new_x, x_row[0:3]])\n",
        "\n",
        "        return new_x\n",
        "    \n",
        "    class_predictions = classModel.predict(x_test) # is this the right shape?\n",
        "\n",
        "    regress_predictions = regressModel.predict(x_test)\n",
        "\n",
        "    return cullBuffers(regress_predictions, class_predictions)\n",
        "\n",
        "\n",
        "def combined_v2(x_train, y_train, qpo_train, class_epochs, reg_epochs, val_split, batch_size, x_test):\n",
        "    classModel = class_model()\n",
        "    class_history = classModel.fit(X_train, qpo_train, validation_split = val_split, epochs=class_epochs, batch_size=batch_size, verbose=0) # val = 0.1, batch size =25 \n",
        "    regressModel = regress_model()\n",
        "    regress_history = regressModel.fit(X_train, y_train, validation_split = val_split, epochs=reg_epochs, batch_size=batch_size, verbose=0)\n",
        "\n",
        "    print('training complete')\n",
        "\n",
        "    def cullBuffers(x, qpo_classes):\n",
        "        new_x = np.array([], dtype=np.float64).reshape(0,3)\n",
        "        for x_row, qpo_class in zip(x, qpo_classes): \n",
        "            if qpo_class == 0: \n",
        "                new_x = np.vstack([new_x, np.zeros(3)])\n",
        "\n",
        "            elif qpo_class == 1:\n",
        "                new_x = np.vstack([new_x, [x_row[0], 0, 0]])\n",
        "\n",
        "            elif qpo_class == 2: \n",
        "                new_x = np.vstack([new_x, [x_row[0], x_row[1], 0]])\n",
        "\n",
        "            elif qpo_class == 3: \n",
        "                new_x = np.vstack([new_x, x_row[0:3]])\n",
        "\n",
        "        return new_x\n",
        "    \n",
        "    softmax_probs = classModel.predict(x_test)\n",
        "    \n",
        "    class_predictions = np.array([]) # wrong shape?\n",
        "\n",
        "    class_options = np.array([0, 1, 2, 3])\n",
        "    for row in softmax_probs: \n",
        "        qpo_class = class_options[np.argmax(row)]\n",
        "        class_predictions = np.append(class_predictions, qpo_class)\n",
        "\n",
        "    print(class_predictions)\n",
        "    \n",
        "    regress_predictions = regressModel.predict(x_test)\n",
        "\n",
        "    return cullBuffers(regress_predictions, class_predictions), class_history, regress_history\n"
      ]
    },
    {
      "cell_type": "code",
      "execution_count": 8,
      "metadata": {
        "colab": {
          "base_uri": "https://localhost:8080/"
        },
        "id": "G377DldT4Jxw",
        "outputId": "bc390a36-cdcd-40d9-c38b-eb8ff940080b"
      },
      "outputs": [
        {
          "name": "stdout",
          "output_type": "stream",
          "text": [
            "training complete\n",
            "WARNING:tensorflow:5 out of the last 5 calls to <function Model.make_predict_function.<locals>.predict_function at 0x7f22feb2bef0> triggered tf.function retracing. Tracing is expensive and the excessive number of tracings could be due to (1) creating @tf.function repeatedly in a loop, (2) passing tensors with different shapes, (3) passing Python objects instead of tensors. For (1), please define your @tf.function outside of the loop. For (2), @tf.function has experimental_relax_shapes=True option that relaxes argument shapes that can avoid unnecessary retracing. For (3), please refer to https://www.tensorflow.org/guide/function#controlling_retracing and https://www.tensorflow.org/api_docs/python/tf/function for  more details.\n",
            "[0. 0. 0. 2. 2. 0. 0. 0. 2. 0. 0. 0. 0. 0. 2. 2. 0. 0. 0.]\n",
            "WARNING:tensorflow:6 out of the last 6 calls to <function Model.make_predict_function.<locals>.predict_function at 0x7f22feb44ef0> triggered tf.function retracing. Tracing is expensive and the excessive number of tracings could be due to (1) creating @tf.function repeatedly in a loop, (2) passing tensors with different shapes, (3) passing Python objects instead of tensors. For (1), please define your @tf.function outside of the loop. For (2), @tf.function has experimental_relax_shapes=True option that relaxes argument shapes that can avoid unnecessary retracing. For (3), please refer to https://www.tensorflow.org/guide/function#controlling_retracing and https://www.tensorflow.org/api_docs/python/tf/function for  more details.\n"
          ]
        }
      ],
      "source": [
        "class_epochs = 800\n",
        "reg_epochs = 1500\n",
        "predictions, class_hist, reg_hist = combined_v2(X_train, y_train, qpo_train, class_epochs, reg_epochs, 0.1, 25, X_test)"
      ]
    },
    {
      "cell_type": "code",
      "execution_count": 10,
      "metadata": {
        "colab": {
          "base_uri": "https://localhost:8080/",
          "height": 279
        },
        "id": "xQp6SZad5HOA",
        "outputId": "da6feb3c-a6e6-48a8-b490-b07f4e9df696"
      },
      "outputs": [
        {
          "data": {
            "image/png": "[encoded data removed]",
            "text/plain": [
              "<Figure size 432x288 with 1 Axes>"
            ]
          },
          "metadata": {
            "needs_background": "light"
          },
          "output_type": "display_data"
        }
      ],
      "source": [
        "flat_y_test = y_test.flatten()\n",
        "flat_y_pred = predictions.flatten()\n",
        "\n",
        "x_line = np.linspace(min(flat_y_test), max(flat_y_test), 3)\n",
        "\n",
        "plt.scatter(flat_y_test, flat_y_pred)\n",
        "plt.plot(x_line, x_line, label='1:1')\n",
        "plt.xlabel('y true')\n",
        "plt.ylabel('y predicted')\n",
        "plt.legend()\n",
        "\n",
        "plt.show()"
      ]
    },
    {
      "cell_type": "code",
      "execution_count": 20,
      "metadata": {
        "colab": {
          "base_uri": "https://localhost:8080/"
        },
        "id": "WimH85rX7_kQ",
        "outputId": "63bc3f5f-2a50-4936-bf0f-d498b502b896"
      },
      "outputs": [
        {
          "name": "stdout",
          "output_type": "stream",
          "text": [
            "19\n"
          ]
        }
      ],
      "source": [
        "print(len(predictions))"
      ]
    },
    {
      "cell_type": "code",
      "execution_count": null,
      "metadata": {
        "id": "vmP7xT25JZqL"
      },
      "outputs": [],
      "source": []
    }
  ],
  "metadata": {
    "accelerator": "TPU",
    "colab": {
      "collapsed_sections": [],
      "machine_shape": "hm",
      "name": "(editing) combined_model.ipynb",
      "provenance": []
    },
    "interpreter": {
      "hash": "d3c0f98bc337faacb3dc92d86fb3c3ff5c297fcab3c4973bdf073a6202ea54c1"
    },
    "kernelspec": {
      "display_name": "Python 3.8.5 64-bit",
      "name": "python3"
    },
    "language_info": {
      "codemirror_mode": {
        "name": "ipython",
        "version": 3
      },
      "file_extension": ".py",
      "mimetype": "text/x-python",
      "name": "python",
      "nbconvert_exporter": "python",
      "pygments_lexer": "ipython3",
      "version": "3.8.5"
    },
    "orig_nbformat": 4
  },
  "nbformat": 4,
  "nbformat_minor": 0
}
