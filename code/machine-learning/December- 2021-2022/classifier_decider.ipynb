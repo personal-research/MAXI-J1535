{
  "nbformat": 4,
  "nbformat_minor": 0,
  "metadata": {
    "colab": {
      "name": "classifier_decider.ipynb",
      "provenance": [],
      "authorship_tag": "ABX9TyORZVumJN1cHZED4yqkH0kf",
      "include_colab_link": true
    },
    "kernelspec": {
      "name": "python3",
      "display_name": "Python 3"
    },
    "language_info": {
      "name": "python"
    }
  },
  "cells": [
    {
      "cell_type": "markdown",
      "metadata": {
        "id": "view-in-github",
        "colab_type": "text"
      },
      "source": [
        "<a href=\"https://colab.research.google.com/github/thissop/MAXI-J1535/blob/main/code/notebooks/December-%202021-2022/classifier_decider.ipynb\" target=\"_parent\"><img src=\"https://colab.research.google.com/assets/colab-badge.svg\" alt=\"Open In Colab\"/></a>"
      ]
    },
    {
      "cell_type": "code",
      "execution_count": null,
      "metadata": {
        "id": "fE8ZA3mCZjZo"
      },
      "outputs": [],
      "source": [
        "import pandas as pd\n",
        "import numpy as np\n",
        "import matplotlib.pyplot as plt\n",
        "from sklearn.preprocessing import minmax_scale as normalize\n",
        "from sklearn.model_selection import train_test_split\n",
        "from sklearn.neighbors import KNeighborsClassifier\n",
        "from sklearn.metrics import accuracy_score, mean_squared_error, median_absolute_error\n",
        "from sklearn.ensemble import RandomForestClassifier\n",
        "from sklearn.model_selection import GridSearchCV, RandomizedSearchCV\n",
        "\n",
        "\n",
        "data_df = pd.read_csv('https://raw.githubusercontent.com/thissop/MAXI-J1535/main/data/processed/fixed_merged.csv?token=AQN5JT7ZW3ZKV5EKEEUCVITB3RP4Y')"
      ]
    },
    {
      "cell_type": "code",
      "source": [
        "# Split data into qpo present and qpo absent \n",
        "\n",
        "no_qpo_idx = np.where(data_df['first_par1s']==0)[0]\n",
        "has_qpo_idx = np.where(data_df['first_par1s']!=0)[0]\n",
        "\n",
        "has_qpo_df = data_df.iloc[has_qpo_idx, :].sample(frac=1)\n",
        "no_qpo_df = data_df.iloc[no_qpo_idx, :].sample(frac=1)\n",
        "\n",
        "print(len(has_qpo_df.index))"
      ],
      "metadata": {
        "colab": {
          "base_uri": "https://localhost:8080/"
        },
        "id": "0YEt1SriaNGo",
        "outputId": "1f0dc058-87e9-4fb6-e18a-89ff5f4093eb"
      },
      "execution_count": null,
      "outputs": [
        {
          "output_type": "stream",
          "name": "stdout",
          "text": [
            "57\n"
          ]
        }
      ]
    },
    {
      "cell_type": "code",
      "source": [
        "# prepare data for analysis\n",
        "\n",
        "# QPO DATA\n",
        "\n",
        "# X\n",
        "\n",
        "arr_names =  ['hardness', 'tins', 'disk_norm', 'gammas', 'nthcomp_norms', 'intensities']\n",
        "(hardness, tins, disk_norms, gammas, nthcomp_norms, intensities) = (normalize(np.array(has_qpo_df[arr_name])) for arr_name in arr_names)\n",
        "\n",
        "## Stack x values\n",
        "x_vals = np.array([], dtype=np.int64).reshape(0,6) # why are they type int\n",
        "\n",
        "for a, b, c, d, e, f in zip(hardness, tins, disk_norms, gammas, nthcomp_norms, intensities): \n",
        "    new_arr = np.array([float(a), float(b), float(c), float(d), float(e), float(f)])\n",
        "    x_vals = np.vstack([x_vals, new_arr])\n",
        "\n",
        "# num QPOS\n",
        "num_qpos = np.array(has_qpo_df['num_qpos']).reshape(len(has_qpo_df), 1).astype(int)\n",
        "\n",
        "# Y \n",
        "y_vals = np.array([], dtype=np.float32).reshape(0, 3)\n",
        "\n",
        "freq1s, freq2s, freq3s = (normalize(np.array(has_qpo_df[arr_name])) for arr_name in ['first_par1s', 'second_par1s', 'third_par1s'])\n",
        "\n",
        "for freq1, freq2, freq3 in zip(freq1s, freq2s, freq3s): \n",
        "    new_arr = np.array([float(freq1), float(freq2), float(freq3)])\n",
        "    y_vals = np.vstack([y_vals, new_arr])\n",
        "\n",
        "# NO QPO DATA\n",
        "\n",
        "# X\n",
        "\n",
        "arr_names =  ['hardness', 'tins', 'disk_norm', 'gammas', 'nthcomp_norms', 'intensities']\n",
        "(hardness_no_qpo, tins_no_qpo, disk_norms_no_qpo, gammas_no_qpo, nthcomp_norms_no_qpo, intensities_no_qpo) = (normalize(np.array(no_qpo_df[arr_name])) for arr_name in arr_names)\n",
        "\n",
        "## Stack x values\n",
        "x_vals_no_qpo = np.array([], dtype=np.int64).reshape(0,6) # why are they type int\n",
        "\n",
        "for a, b, c, d, e, f in zip(hardness_no_qpo, tins_no_qpo, disk_norms_no_qpo, gammas_no_qpo, nthcomp_norms_no_qpo, intensities_no_qpo): \n",
        "    new_arr = np.array([float(a), float(b), float(c), float(d), float(e), float(f)])\n",
        "    x_vals_no_qpo = np.vstack([x_vals_no_qpo, new_arr])\n",
        "\n",
        "# num QPOS\n",
        "num_qpos_no_qpo = np.array(no_qpo_df['num_qpos']).reshape(len(no_qpo_df), 1).astype(int)\n",
        "\n",
        "# Y \n",
        "y_vals_no_qpo = np.array([], dtype=np.float32).reshape(0, 3)\n",
        "\n",
        "freq1s_no_qpo, freq2s_no_qpo, freq3s_no_qpo = (normalize(np.array(no_qpo_df[arr_name])) for arr_name in ['first_par1s', 'second_par1s', 'third_par1s'])\n",
        "\n",
        "for freq1, freq2, freq3 in zip(freq1s_no_qpo, freq2s_no_qpo, freq3s_no_qpo): \n",
        "    new_arr = np.array([float(freq1), float(freq2), float(freq3)])\n",
        "    y_vals_no_qpo = np.vstack([y_vals_no_qpo, new_arr])"
      ],
      "metadata": {
        "id": "NfLldOV0aVeg"
      },
      "execution_count": null,
      "outputs": []
    },
    {
      "cell_type": "code",
      "source": [
        "# General functions\n",
        "\n",
        "def split_data(x_vals, y_vals, num_qpos): \n",
        "    # Train test split\n",
        "    X_train, X_test, y_train, y_test, qpo_train, qpo_test = train_test_split(x_vals, y_vals, num_qpos, test_size=0.1)\n",
        "    return X_train, X_test, y_train, y_test, qpo_train, qpo_test\n",
        "\n",
        "def knn_predict(k, xtrain, ytrain, xtest, ytest): \n",
        "    knn = KNeighborsClassifier(k)\n",
        "    knn.fit(xtrain, ytrain)\n",
        "    predictions = knn.predict(xtest)\n",
        "    acc = accuracy_score(predictions, ytest.flatten())\n",
        "\n",
        "    return acc, predictions\n",
        "\n",
        "def cullBuffers(x, qpo_classes):\n",
        "    new_x = np.array([], dtype=np.float64).reshape(0,3)\n",
        "    for x_row, qpo_class in zip(x, qpo_classes): \n",
        "        if qpo_class == 0: \n",
        "            new_x = np.vstack([new_x, np.zeros(3)])\n",
        "\n",
        "        elif qpo_class == 1:\n",
        "            new_x = np.vstack([new_x, [x_row[0], 0, 0]])\n",
        "\n",
        "        elif qpo_class == 2: \n",
        "            new_x = np.vstack([new_x, [x_row[0], x_row[1], 0]])\n",
        "\n",
        "        elif qpo_class == 3: \n",
        "            new_x = np.vstack([new_x, x_row[0:3]])\n",
        "\n",
        "    return new_x\n",
        "\n",
        "def drop_no_qpo(X_test, y_test, knn_qpo_predictions): \n",
        "    non_zero_indices = np.where(knn_qpo_predictions!=0)\n",
        "    return X_test[non_zero_indices], y_test[non_zero_indices]"
      ],
      "metadata": {
        "id": "0VrNJ1S3aWAf"
      },
      "execution_count": null,
      "outputs": []
    },
    {
      "cell_type": "code",
      "source": [
        "def custom_final_split(): \n",
        "    X_train, X_test, y_train, y_test, qpo_train, qpo_test = split_data(x_vals, y_vals, num_qpos) \n",
        "    X_train_no_qpo, X_test_no_qpo, y_train_no_qpo, y_test_no_qpo, qpo_train_no_qpo, qpo_test_no_qpo = split_data(x_vals_no_qpo, y_vals_no_qpo, num_qpos_no_qpo) \n",
        "    X_train_combined = np.concatenate((X_train, X_train_no_qpo))\n",
        "    X_test_combined = np.concatenate((X_test, X_test_no_qpo))\n",
        "    qpo_train_combined = np.concatenate((qpo_train, qpo_train_no_qpo))\n",
        "    qpo_test_combined = np.concatenate((qpo_test, qpo_test_no_qpo))\n",
        "    y_test_combined = np.concatenate((y_test, y_test_no_qpo))\n",
        "\n",
        "    return X_train_combined, qpo_train_combined, X_test_combined, qpo_test_combined"
      ],
      "metadata": {
        "id": "SFw_iHUnaES1"
      },
      "execution_count": null,
      "outputs": []
    },
    {
      "cell_type": "code",
      "source": [
        "knn_vals = [3,5,7,9]\n",
        "knn_accs_arr = []\n",
        "\n",
        "\n",
        "\n",
        "for model in [KNeighborsClassifier, RandomForestClassifier]: \n",
        "    model_name = str(model).split('\\'')[1:2][0].split('.')[-1]\n",
        "\n",
        "    if model_name == 'KNeighborsClassifier': \n",
        "        for i in knn_vals: \n",
        "            clf = model(n_neighbors=i)\n",
        "            accs_arr = []\n",
        "            for i in range(1000): \n",
        "                X_train_combined, qpo_train_combined, X_test_combined, qpo_test_combined = custom_final_split()\n",
        "                clf.fit(X_train_combined, np.ravel(qpo_train_combined))\n",
        "                clf_predictions = clf.predict(X_test_combined)\n",
        "                accs_arr.append(accuracy_score(clf_predictions, qpo_test_combined))\n",
        "            knn_accs_arr.append(np.mean(accs_arr))\n",
        "\n",
        "    elif model_name == 'RandomForestClassifier': \n"
      ],
      "metadata": {
        "id": "AjjTpCnXZvA4"
      },
      "execution_count": null,
      "outputs": []
    },
    {
      "cell_type": "code",
      "source": [
        "print(np.max(knn_accs_arr), knn_vals[np.argmax(knn_accs_arr)])"
      ],
      "metadata": {
        "colab": {
          "base_uri": "https://localhost:8080/"
        },
        "id": "RD9823npbQsC",
        "outputId": "9191f3d0-467a-4195-dabc-25f3b820a685"
      },
      "execution_count": null,
      "outputs": [
        {
          "output_type": "stream",
          "name": "stdout",
          "text": [
            "0.9330000000000002 3\n"
          ]
        }
      ]
    },
    {
      "cell_type": "code",
      "source": [
        "print(knn_accs_arr)"
      ],
      "metadata": {
        "colab": {
          "base_uri": "https://localhost:8080/"
        },
        "id": "CvE6Y-eabkbq",
        "outputId": "396c1629-66a2-421c-96c6-a37ce29d5574"
      },
      "execution_count": null,
      "outputs": [
        {
          "output_type": "stream",
          "name": "stdout",
          "text": [
            "[0.9330000000000002, 0.9220526315789475, 0.9223684210526317, 0.9237894736842106]\n"
          ]
        }
      ]
    },
    {
      "cell_type": "code",
      "source": [
        "rf_params = {'min_samples_leaf':[1, 2, 4],'min_samples_split':[2, 5, 10]}\n",
        "rf = RandomForestClassifier() \n",
        "clf = GridSearchCV(rf, rf_params)\n",
        "rf_accs = []\n",
        "\n",
        "clf.fit(X_train_combined, np.ravel(qpo_train_combined))\n",
        "clf.best_score_"
      ],
      "metadata": {
        "colab": {
          "base_uri": "https://localhost:8080/"
        },
        "id": "18I32MhpcXTR",
        "outputId": "7dba1fd9-6576-441e-b647-2fdd7fd00e04"
      },
      "execution_count": null,
      "outputs": [
        {
          "output_type": "execute_result",
          "data": {
            "text/plain": [
              "0.9333333333333333"
            ]
          },
          "metadata": {},
          "execution_count": 36
        }
      ]
    },
    {
      "cell_type": "code",
      "source": [
        "clf.best_params_"
      ],
      "metadata": {
        "colab": {
          "base_uri": "https://localhost:8080/"
        },
        "id": "YoP94CAydB27",
        "outputId": "5fe702af-6d41-4ea1-e896-2b12d2227706"
      },
      "execution_count": null,
      "outputs": [
        {
          "output_type": "execute_result",
          "data": {
            "text/plain": [
              "{'min_samples_leaf': 4, 'min_samples_split': 2}"
            ]
          },
          "metadata": {},
          "execution_count": 37
        }
      ]
    },
    {
      "cell_type": "code",
      "source": [
        "clf = RandomForestClassifier(min_samples_leaf=4, min_samples_split=2)\n",
        "accs_arr = []\n",
        "for i in range(1000): \n",
        "    X_train_combined, qpo_train_combined, X_test_combined, qpo_test_combined = custom_final_split()\n",
        "    clf.fit(X_train_combined, np.ravel(qpo_train_combined))\n",
        "    clf_predictions = clf.predict(X_test_combined)\n",
        "    accs_arr.append(accuracy_score(clf_predictions, qpo_test_combined))\n",
        "\n",
        "np.mean(accs_arr)"
      ],
      "metadata": {
        "colab": {
          "base_uri": "https://localhost:8080/"
        },
        "id": "wpWKclAPdENA",
        "outputId": "942799e1-1a13-40b4-8113-8b73df48075e"
      },
      "execution_count": null,
      "outputs": [
        {
          "output_type": "execute_result",
          "data": {
            "text/plain": [
              "0.9328421052631579"
            ]
          },
          "metadata": {},
          "execution_count": 40
        }
      ]
    },
    {
      "cell_type": "code",
      "source": [
        "knn_accs_arr = []\n",
        "rf_accs_arr = []\n",
        "clf = RandomForestClassifier(min_samples_leaf=4, min_samples_split=2)\n",
        "for i in range(25): \n",
        "    X_train_combined, qpo_train_combined, X_test_combined, qpo_test_combined = custom_final_split()\n",
        "    knn = KNeighborsClassifier(3)\n",
        "    knn.fit(X_train_combined, np.ravel(qpo_train_combined))\n",
        "    knn_predictions = knn.predict(X_test_combined)\n",
        "    knn_accs_arr.append(accuracy_score(knn_predictions, qpo_test_combined))\n",
        "\n",
        "    clf.fit(X_train_combined, np.ravel(qpo_train_combined))\n",
        "    clf_predictions = clf.predict(X_test_combined)\n",
        "    rf_accs_arr.append(accuracy_score(clf_predictions, qpo_test_combined))"
      ],
      "metadata": {
        "id": "_51SSzDEeFDB"
      },
      "execution_count": null,
      "outputs": []
    },
    {
      "cell_type": "code",
      "source": [
        "print(np.mean(knn_accs_arr), np.mean(rf_accs_arr))"
      ],
      "metadata": {
        "colab": {
          "base_uri": "https://localhost:8080/"
        },
        "id": "0LzQwPyxehHE",
        "outputId": "77fe04af-d3c9-4f6f-8c3a-78e049fda1b2"
      },
      "execution_count": null,
      "outputs": [
        {
          "output_type": "stream",
          "name": "stdout",
          "text": [
            "0.9242105263157893 0.9221052631578947\n"
          ]
        }
      ]
    },
    {
      "cell_type": "code",
      "source": [
        "import time"
      ],
      "metadata": {
        "id": "qC6Rb_oCfy9j"
      },
      "execution_count": null,
      "outputs": []
    },
    {
      "cell_type": "code",
      "source": [
        "knn = KNeighborsClassifier(3)\n",
        "knn_start = time.time()\n",
        "knn.fit(X_train_combined, np.ravel(qpo_train_combined))\n",
        "knn_predictions = knn.predict(X_test_combined)\n",
        "knn_acc = accuracy_score(knn_predictions, qpo_test_combined)\n",
        "knn_end = time.time()\n",
        "knn_end-knn_start"
      ],
      "metadata": {
        "colab": {
          "base_uri": "https://localhost:8080/"
        },
        "id": "JCF6JqYtf0Yx",
        "outputId": "bfd06f3d-4f2c-4faf-a858-9e4278075394"
      },
      "execution_count": null,
      "outputs": [
        {
          "output_type": "execute_result",
          "data": {
            "text/plain": [
              "0.0051996707916259766"
            ]
          },
          "metadata": {},
          "execution_count": 56
        }
      ]
    },
    {
      "cell_type": "code",
      "source": [
        "clf = RandomForestClassifier(min_samples_leaf=4, min_samples_split=2)\n",
        "rf_start = time.time()\n",
        "clf.fit(X_train_combined, np.ravel(qpo_train_combined))\n",
        "clf_predictions = clf.predict(X_test_combined)\n",
        "rf_acc = accuracy_score(clf_predictions, qpo_test_combined)\n",
        "rf_end = time.time()\n",
        "rf_end-rf_start"
      ],
      "metadata": {
        "colab": {
          "base_uri": "https://localhost:8080/"
        },
        "id": "UEeG5uKtgBJB",
        "outputId": "55ffed44-3008-431c-facb-2b0ac761b791"
      },
      "execution_count": null,
      "outputs": [
        {
          "output_type": "execute_result",
          "data": {
            "text/plain": [
              "0.16596364974975586"
            ]
          },
          "metadata": {},
          "execution_count": 57
        }
      ]
    },
    {
      "cell_type": "markdown",
      "source": [
        "## RESULTS\n",
        "* The classification algo going forward will be randomforestclassifier with min_samples_leaf set to 4 and min_samples_split set to 2\n",
        "* actually not sure. knn is a lot faster than rf"
      ],
      "metadata": {
        "id": "93qQzHTzdgUB"
      }
    }
  ]
}