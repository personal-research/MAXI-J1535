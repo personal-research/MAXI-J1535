{
  "nbformat": 4,
  "nbformat_minor": 0,
  "metadata": {
    "colab": {
      "name": "chained_linear.ipynb",
      "provenance": []
    },
    "kernelspec": {
      "name": "python3",
      "display_name": "Python 3"
    },
    "language_info": {
      "name": "python"
    }
  },
  "cells": [
    {
      "cell_type": "markdown",
      "source": [
        "# Notes\n",
        "\n",
        "### To do\n",
        "* readings, try to regress for widths and normalizations, then reprocess all data, then empircally test different hyperparameter combinations for the models.\n",
        "\n",
        "### To read\n",
        "* [sklearn regressor chain](https://scikit-learn.org/stable/modules/generated/sklearn.multioutput.RegressorChain.html)\n",
        "* [sklearn svms](https://scikit-learn.org/stable/modules/svm.html)"
      ],
      "metadata": {
        "id": "s1Gx5sfm7wO0"
      }
    },
    {
      "cell_type": "code",
      "execution_count": 12,
      "metadata": {
        "id": "aO4Dtx891abK"
      },
      "outputs": [],
      "source": [
        "import pandas as pd\n",
        "import numpy as np\n",
        "import matplotlib.pyplot as plt\n",
        "from sklearn.preprocessing import minmax_scale as normalize\n",
        "from sklearn.model_selection import train_test_split\n",
        "from sklearn.neighbors import KNeighborsClassifier\n",
        "from sklearn.metrics import accuracy_score, mean_squared_error, median_absolute_error\n",
        "from sklearn.multioutput import RegressorChain\n",
        "from sklearn.svm import LinearSVR\n",
        "from sklearn.linear_model import LinearRegression\n",
        "\n",
        "plt.style.use('seaborn-darkgrid')\n",
        "plt.rcParams['font.family']='serif'\n",
        "#plt.rcParams['figure.dpi']=150\n",
        "\n",
        "data_df = pd.read_csv('https://raw.githubusercontent.com/thissop/MAXI-J1535/main/data/processed/fixed_merged.csv?token=AQN5JTYUIYYWNOZEPNSU42LBZT3E2')"
      ]
    },
    {
      "cell_type": "code",
      "source": [
        "# Split data into qpo present and qpo absent \n",
        "\n",
        "no_qpo_idx = np.where(data_df['first_par1s']==0)[0]\n",
        "has_qpo_idx = np.where(data_df['first_par1s']!=0)[0]\n",
        "\n",
        "has_qpo_df = data_df.iloc[has_qpo_idx, :].sample(frac=1)\n",
        "no_qpo_df = data_df.iloc[no_qpo_idx, :].sample(frac=1)\n",
        "\n",
        "print(len(has_qpo_df.index))"
      ],
      "metadata": {
        "colab": {
          "base_uri": "https://localhost:8080/"
        },
        "id": "lw-eFKGz1lOD",
        "outputId": "0b4a27e7-9bc8-4718-864c-aecf78ab5f25"
      },
      "execution_count": 3,
      "outputs": [
        {
          "output_type": "stream",
          "name": "stdout",
          "text": [
            "57\n"
          ]
        }
      ]
    },
    {
      "cell_type": "code",
      "source": [
        "# prepare data for analysis\n",
        "\n",
        "# QPO DATA\n",
        "\n",
        "# X\n",
        "\n",
        "arr_names =  ['hardness', 'tins', 'disk_norm', 'gammas', 'nthcomp_norms', 'intensities']\n",
        "(hardness, tins, disk_norms, gammas, nthcomp_norms, intensities) = (normalize(np.array(has_qpo_df[arr_name])) for arr_name in arr_names)\n",
        "\n",
        "## Stack x values\n",
        "x_vals = np.array([], dtype=np.int64).reshape(0,6) # why are they type int\n",
        "\n",
        "for a, b, c, d, e, f in zip(hardness, tins, disk_norms, gammas, nthcomp_norms, intensities): \n",
        "    new_arr = np.array([float(a), float(b), float(c), float(d), float(e), float(f)])\n",
        "    x_vals = np.vstack([x_vals, new_arr])\n",
        "\n",
        "# num QPOS\n",
        "num_qpos = np.array(has_qpo_df['num_qpos']).reshape(len(has_qpo_df), 1).astype(int)\n",
        "\n",
        "# Y \n",
        "y_vals = np.array([], dtype=np.float32).reshape(0, 3)\n",
        "\n",
        "freq1s, freq2s, freq3s = (normalize(np.array(has_qpo_df[arr_name])) for arr_name in ['first_par1s', 'second_par1s', 'third_par1s'])\n",
        "\n",
        "for freq1, freq2, freq3 in zip(freq1s, freq2s, freq3s): \n",
        "    new_arr = np.array([float(freq1), float(freq2), float(freq3)])\n",
        "    y_vals = np.vstack([y_vals, new_arr])\n",
        "\n",
        "# NO QPO DATA\n",
        "\n",
        "# X\n",
        "\n",
        "arr_names =  ['hardness', 'tins', 'disk_norm', 'gammas', 'nthcomp_norms', 'intensities']\n",
        "(hardness_no_qpo, tins_no_qpo, disk_norms_no_qpo, gammas_no_qpo, nthcomp_norms_no_qpo, intensities_no_qpo) = (normalize(np.array(no_qpo_df[arr_name])) for arr_name in arr_names)\n",
        "\n",
        "## Stack x values\n",
        "x_vals_no_qpo = np.array([], dtype=np.int64).reshape(0,6) # why are they type int\n",
        "\n",
        "for a, b, c, d, e, f in zip(hardness_no_qpo, tins_no_qpo, disk_norms_no_qpo, gammas_no_qpo, nthcomp_norms_no_qpo, intensities_no_qpo): \n",
        "    new_arr = np.array([float(a), float(b), float(c), float(d), float(e), float(f)])\n",
        "    x_vals_no_qpo = np.vstack([x_vals_no_qpo, new_arr])\n",
        "\n",
        "# num QPOS\n",
        "num_qpos_no_qpo = np.array(no_qpo_df['num_qpos']).reshape(len(no_qpo_df), 1).astype(int)\n",
        "\n",
        "# Y \n",
        "y_vals_no_qpo = np.array([], dtype=np.float32).reshape(0, 3)\n",
        "\n",
        "freq1s_no_qpo, freq2s_no_qpo, freq3s_no_qpo = (normalize(np.array(no_qpo_df[arr_name])) for arr_name in ['first_par1s', 'second_par1s', 'third_par1s'])\n",
        "\n",
        "for freq1, freq2, freq3 in zip(freq1s_no_qpo, freq2s_no_qpo, freq3s_no_qpo): \n",
        "    new_arr = np.array([float(freq1), float(freq2), float(freq3)])\n",
        "    y_vals_no_qpo = np.vstack([y_vals_no_qpo, new_arr])"
      ],
      "metadata": {
        "id": "xZFHtPfc1oG5"
      },
      "execution_count": 4,
      "outputs": []
    },
    {
      "cell_type": "code",
      "source": [
        "# General functions\n",
        "\n",
        "def split_data(x_vals, y_vals, num_qpos): \n",
        "    # Train test split\n",
        "    X_train, X_test, y_train, y_test, qpo_train, qpo_test = train_test_split(x_vals, y_vals, num_qpos, test_size=0.1)\n",
        "    return X_train, X_test, y_train, y_test, qpo_train, qpo_test\n",
        "\n",
        "def knn_predict(k, xtrain, ytrain, xtest, ytest): \n",
        "    knn = KNeighborsClassifier(k)\n",
        "    knn.fit(xtrain, ytrain)\n",
        "    predictions = knn.predict(xtest)\n",
        "    acc = accuracy_score(predictions, ytest.flatten())\n",
        "\n",
        "    return acc, predictions\n",
        "\n",
        "def cullBuffers(x, qpo_classes):\n",
        "    new_x = np.array([], dtype=np.float64).reshape(0,3)\n",
        "    for x_row, qpo_class in zip(x, qpo_classes): \n",
        "        if qpo_class == 0: \n",
        "            new_x = np.vstack([new_x, np.zeros(3)])\n",
        "\n",
        "        elif qpo_class == 1:\n",
        "            new_x = np.vstack([new_x, [x_row[0], 0, 0]])\n",
        "\n",
        "        elif qpo_class == 2: \n",
        "            new_x = np.vstack([new_x, [x_row[0], x_row[1], 0]])\n",
        "\n",
        "        elif qpo_class == 3: \n",
        "            new_x = np.vstack([new_x, x_row[0:3]])\n",
        "\n",
        "    return new_x\n",
        "\n",
        "def drop_no_qpo(X_test, y_test, knn_qpo_predictions): \n",
        "    non_zero_indices = np.where(knn_qpo_predictions!=0)\n",
        "    return X_test[non_zero_indices], y_test[non_zero_indices]"
      ],
      "metadata": {
        "id": "JR8NxI7a1oho"
      },
      "execution_count": 5,
      "outputs": []
    },
    {
      "cell_type": "code",
      "source": [
        "# train test splitting and combining\n",
        "\n",
        "X_train, X_test, y_train, y_test, qpo_train, qpo_test = split_data(x_vals, y_vals, num_qpos) \n",
        "X_train_no_qpo, X_test_no_qpo, y_train_no_qpo, y_test_no_qpo, qpo_train_no_qpo, qpo_test_no_qpo = split_data(x_vals_no_qpo, y_vals_no_qpo, num_qpos_no_qpo) \n",
        "\n",
        "X_train_combined = np.concatenate((X_train, X_train_no_qpo))\n",
        "X_test_combined = np.concatenate((X_test, X_test_no_qpo))\n",
        "qpo_train_combined = np.concatenate((qpo_train, qpo_train_no_qpo))\n",
        "qpo_test_combined = np.concatenate((qpo_test, qpo_test_no_qpo))\n",
        "\n",
        "y_test_combined = np.concatenate((y_test, y_test_no_qpo))"
      ],
      "metadata": {
        "id": "WnoZXbjs1syx"
      },
      "execution_count": 27,
      "outputs": []
    },
    {
      "cell_type": "code",
      "source": [
        "knn_acc, knn_predictions = knn_predict(7, X_train_combined, qpo_train_combined, X_test_combined, qpo_test_combined)\n",
        "\n",
        "knn_predictions = knn_predictions.flatten().astype(int)\n",
        "knn_predictions"
      ],
      "metadata": {
        "colab": {
          "base_uri": "https://localhost:8080/"
        },
        "id": "HtRHSWJx1wZp",
        "outputId": "9e954acc-1367-4d93-8283-111c3b650018"
      },
      "execution_count": 28,
      "outputs": [
        {
          "output_type": "stream",
          "name": "stderr",
          "text": [
            "/usr/local/lib/python3.7/dist-packages/sklearn/neighbors/_classification.py:198: DataConversionWarning: A column-vector y was passed when a 1d array was expected. Please change the shape of y to (n_samples,), for example using ravel().\n",
            "  return self._fit(X, y)\n"
          ]
        },
        {
          "output_type": "execute_result",
          "data": {
            "text/plain": [
              "array([2, 1, 2, 2, 2, 2, 0, 0, 0, 0, 0, 0, 0, 0, 0, 0, 0, 2, 0])"
            ]
          },
          "metadata": {},
          "execution_count": 28
        }
      ]
    },
    {
      "cell_type": "code",
      "source": [
        "model = LinearSVR()\n",
        "\n",
        "wrapper = RegressorChain(model, order=[0,1,2])\n",
        "\n",
        "wrapper.fit(X_train,y_train)\n",
        "\n",
        "x_test_no_qpo_predicted, y_test_no_qpo_predicted = drop_no_qpo(X_test_combined, y_test_combined, knn_predictions)\n",
        "\n",
        "chained_predictions = cullBuffers(wrapper.predict(x_test_no_qpo_predicted), knn_predictions).flatten()\n",
        "\n",
        "mse = mean_squared_error(y_test_no_qpo_predicted.flatten(), chained_predictions)\n",
        "mae = median_absolute_error(y_test_no_qpo_predicted.flatten(), chained_predictions)"
      ],
      "metadata": {
        "colab": {
          "base_uri": "https://localhost:8080/"
        },
        "id": "Ey20RW3y1wvH",
        "outputId": "9e613a03-f07d-4234-b5e8-0fe1fc23f5e1"
      },
      "execution_count": 29,
      "outputs": [
        {
          "output_type": "stream",
          "name": "stderr",
          "text": [
            "/usr/local/lib/python3.7/dist-packages/sklearn/svm/_base.py:1208: ConvergenceWarning: Liblinear failed to converge, increase the number of iterations.\n",
            "  ConvergenceWarning,\n",
            "/usr/local/lib/python3.7/dist-packages/sklearn/svm/_base.py:1208: ConvergenceWarning: Liblinear failed to converge, increase the number of iterations.\n",
            "  ConvergenceWarning,\n"
          ]
        }
      ]
    },
    {
      "cell_type": "code",
      "source": [
        "fig, ax = plt.subplots()\n",
        "\n",
        "line_label = 'mse: '+str(round(mse, 3))+'\\n'+'mae: '+str(round(mae, 3))\n",
        "ax.plot([0,1], [0,1], label=line_label)\n",
        "ax.scatter(y_test_no_qpo_predicted.flatten(), chained_predictions)\n",
        "\n",
        "ax.set(xlabel='true qpo '+r'$\\nu$', ylabel='predicted qpo '+r'$\\nu$')\n",
        "ax.legend()\n",
        "plt.show()"
      ],
      "metadata": {
        "colab": {
          "base_uri": "https://localhost:8080/",
          "height": 277
        },
        "id": "H4MEhcJr3nEj",
        "outputId": "57b87888-fe48-471f-a5c4-27ac29fc2eda"
      },
      "execution_count": 30,
      "outputs": [
        {
          "output_type": "display_data",
          "data": {
            "image/png": "[encoded data removed]",
            "text/plain": [
              "<Figure size 432x288 with 1 Axes>"
            ]
          },
          "metadata": {}
        }
      ]
    },
    {
      "cell_type": "markdown",
      "source": [
        "### Check with simple linear"
      ],
      "metadata": {
        "id": "xofN-SRV4AzI"
      }
    },
    {
      "cell_type": "code",
      "source": [
        "model = LinearRegression()\n",
        "\n",
        "wrapper = RegressorChain(model, order=[0,1,2])\n",
        "\n",
        "wrapper.fit(X_train,y_train)\n",
        "\n",
        "x_test_no_qpo_predicted, y_test_no_qpo_predicted = drop_no_qpo(X_test_combined, y_test_combined, knn_predictions)\n",
        "\n",
        "chained_predictions = cullBuffers(wrapper.predict(x_test_no_qpo_predicted), knn_predictions).flatten()\n",
        "\n",
        "mse = mean_squared_error(y_test_no_qpo_predicted.flatten(), chained_predictions)\n",
        "mae = median_absolute_error(y_test_no_qpo_predicted.flatten(), chained_predictions)"
      ],
      "metadata": {
        "id": "WtCj0Yhm4DAD"
      },
      "execution_count": 31,
      "outputs": []
    },
    {
      "cell_type": "code",
      "source": [
        "fig, ax = plt.subplots()\n",
        "\n",
        "line_label = 'mse: '+str(round(mse, 3))+'\\n'+'mae: '+str(round(mae, 3))\n",
        "ax.plot([0,1], [0,1], label=line_label)\n",
        "ax.scatter(y_test_no_qpo_predicted.flatten(), chained_predictions)\n",
        "\n",
        "ax.set(xlabel='true qpo '+r'$\\nu$', ylabel='predicted qpo '+r'$\\nu$')\n",
        "ax.legend()\n",
        "plt.show()"
      ],
      "metadata": {
        "colab": {
          "base_uri": "https://localhost:8080/",
          "height": 277
        },
        "id": "1DTVV__q4T8L",
        "outputId": "64647bf0-4a4c-4067-d528-c7da19863dbb"
      },
      "execution_count": 32,
      "outputs": [
        {
          "output_type": "display_data",
          "data": {
            "image/png": "[encoded data removed]",
            "text/plain": [
              "<Figure size 432x288 with 1 Axes>"
            ]
          },
          "metadata": {}
        }
      ]
    },
    {
      "cell_type": "markdown",
      "source": [
        "### KNN decision boundaries plot"
      ],
      "metadata": {
        "id": "8i_MvE1-8Tfa"
      }
    },
    {
      "cell_type": "code",
      "source": [
        "from matplotlib.colors import ListedColormap\n",
        "from sklearn import neighbors, datasets\n",
        "import seaborn as sns\n",
        "\n",
        "paired_colors = np.array(sns.color_palette(\"Paired\"))\n"
      ],
      "metadata": {
        "colab": {
          "base_uri": "https://localhost:8080/",
          "height": 208
        },
        "id": "f97O_rLP8Ytb",
        "outputId": "c2568e65-6767-459c-b93f-db594b683b29"
      },
      "execution_count": 68,
      "outputs": [
        {
          "output_type": "error",
          "ename": "IndexError",
          "evalue": "ignored",
          "traceback": [
            "\u001b[0;31m---------------------------------------------------------------------------\u001b[0m",
            "\u001b[0;31mIndexError\u001b[0m                                Traceback (most recent call last)",
            "\u001b[0;32m<ipython-input-68-6b467655ddcf>\u001b[0m in \u001b[0;36m<module>\u001b[0;34m()\u001b[0m\n\u001b[1;32m      5\u001b[0m \u001b[0mpaired_colors\u001b[0m \u001b[0;34m=\u001b[0m \u001b[0mnp\u001b[0m\u001b[0;34m.\u001b[0m\u001b[0marray\u001b[0m\u001b[0;34m(\u001b[0m\u001b[0msns\u001b[0m\u001b[0;34m.\u001b[0m\u001b[0mcolor_palette\u001b[0m\u001b[0;34m(\u001b[0m\u001b[0;34m\"Paired\"\u001b[0m\u001b[0;34m)\u001b[0m\u001b[0;34m)\u001b[0m\u001b[0;34m\u001b[0m\u001b[0;34m\u001b[0m\u001b[0m\n\u001b[1;32m      6\u001b[0m \u001b[0;34m\u001b[0m\u001b[0m\n\u001b[0;32m----> 7\u001b[0;31m \u001b[0mprint\u001b[0m\u001b[0;34m(\u001b[0m\u001b[0mpaired_colors\u001b[0m\u001b[0;34m[\u001b[0m\u001b[0;36m0\u001b[0m\u001b[0;34m,\u001b[0m\u001b[0;36m3\u001b[0m\u001b[0;34m,\u001b[0m\u001b[0;36m4\u001b[0m\u001b[0;34m]\u001b[0m\u001b[0;34m)\u001b[0m\u001b[0;34m\u001b[0m\u001b[0;34m\u001b[0m\u001b[0m\n\u001b[0m",
            "\u001b[0;31mIndexError\u001b[0m: too many indices for array: array is 2-dimensional, but 3 were indexed"
          ]
        }
      ]
    },
    {
      "cell_type": "code",
      "source": [
        "x1 = X_train_combined[:,0] #  0 and 3 for hardness and gammas\n",
        "x2 = X_train_combined[:,3] \n",
        "\n",
        "\n",
        "X = np.array([], dtype=np.float).reshape(0,2) \n",
        "\n",
        "for a, b, in zip(x1,x2): \n",
        "    new_arr = np.array([float(a), float(b)])\n",
        "    X = np.vstack([X, new_arr])\n",
        "\n",
        "h = 0.02\n",
        "\n",
        "cmap_light = ListedColormap(paired_colors[[0,2,6,4]])\n",
        "cmap_bold = paired_colors[[1,3,7,5]]\n",
        "\n",
        "zero_mask = np.where(qpo_train_combined==0)\n",
        "one_mask = np.where(qpo_train_combined==1)\n",
        "two_mask = np.where(qpo_train_combined==2)\n",
        "three_mask = np.where(qpo_train_combined==3)\n",
        "\n",
        "colors_arr = []\n",
        "\n",
        "for val in qpo_train_combined: \n",
        "    if val == 0: \n",
        "        colors_arr.append(cmap_bold[0])\n",
        "    elif val == 1: \n",
        "        colors_arr.append(cmap_bold[1])\n",
        "    elif val == 2: \n",
        "        colors_arr.append(cmap_bold[2])\n",
        "    elif val == 3: \n",
        "        colors_arr.append(cmap_bold[3])\n",
        "\n",
        "knn = KNeighborsClassifier(7)\n",
        "knn.fit(X, qpo_train_combined)\n",
        "\n",
        "x_min, x_max = x1.min() - 0.05, x1.max() + 0.05\n",
        "y_min, y_max = x2.min() - 0.05, x2.max() + 0.05\n",
        "\n",
        "xx, yy = np.meshgrid(np.arange(x_min, x_max, h), np.arange(y_min, y_max, h))\n",
        "Z = knn.predict(np.c_[xx.ravel(), yy.ravel()])\n",
        "\n",
        "Z = Z.reshape(xx.shape)\n",
        "\n",
        "# Actual plot\n",
        "fig, ax = plt.subplots(figsize=(8, 6))\n",
        "\n",
        "plt.contourf(xx, yy, Z, cmap=cmap_light)\n",
        "\n",
        "#plt.scatter(x1, x2, c=colors_arr)\n",
        "\n",
        "ax.set(xlabel=arr_names[0], ylabel=arr_names[3])\n",
        "\n",
        "#plt.legend()\n",
        "\n",
        "plt.show()"
      ],
      "metadata": {
        "colab": {
          "base_uri": "https://localhost:8080/",
          "height": 440
        },
        "id": "AX93VWht8cdC",
        "outputId": "71d94df1-be90-4361-84b3-af7e78148755"
      },
      "execution_count": 91,
      "outputs": [
        {
          "output_type": "stream",
          "name": "stderr",
          "text": [
            "/usr/local/lib/python3.7/dist-packages/sklearn/neighbors/_classification.py:198: DataConversionWarning: A column-vector y was passed when a 1d array was expected. Please change the shape of y to (n_samples,), for example using ravel().\n",
            "  return self._fit(X, y)\n"
          ]
        },
        {
          "output_type": "display_data",
          "data": {
            "image/png": "[encoded data removed]",
            "text/plain": [
              "<Figure size 576x432 with 1 Axes>"
            ]
          },
          "metadata": {}
        }
      ]
    }
  ]
}