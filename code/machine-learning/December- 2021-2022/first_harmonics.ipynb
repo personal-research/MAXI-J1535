{
 "cells": [
  {
   "cell_type": "code",
   "execution_count": 110,
   "metadata": {},
   "outputs": [],
   "source": [
    "import numpy as np\n",
    "import pandas as pd\n",
    "import matplotlib.pyplot as plt\n",
    "import seaborn as sns\n",
    "from matplotlib.ticker import AutoMinorLocator\n",
    "\n",
    "np.set_printoptions(suppress=True)\n",
    "plt.rcParams['font.family']='serif'"
   ]
  },
  {
   "cell_type": "code",
   "execution_count": 3,
   "metadata": {},
   "outputs": [],
   "source": [
    "combined_df = pd.read_csv('https://raw.githubusercontent.com/thissop/MAXI-J1535/main/data/processed/fixed_merged.csv?token=AQN5JT44OFGXIMV7QILKFZLBYVPIA')\n",
    "\n",
    "combined_df = combined_df.sample(frac=1) # shuffle the dataframe\n",
    "\n",
    "freqs_1, freqs_2, freqs_3 = (np.array(combined_df[arr_name]) for arr_name in ['first_par1s', 'second_par1s', 'third_par1s'])"
   ]
  },
  {
   "cell_type": "code",
   "execution_count": 103,
   "metadata": {},
   "outputs": [],
   "source": [
    "\n",
    "first_second_ratios = np.array([])\n",
    "first_third_ratios = np.array([])\n",
    "second_third_ratios = np.array([])\n",
    "indexs = np.array([])\n",
    "\n",
    "index = 0\n",
    "for i, j, k in zip(freqs_1, freqs_2, freqs_3): \n",
    "    if i!=0: \n",
    "        if j!=0:\n",
    "            first_second_ratios = np.append(first_second_ratios,j/i) \n",
    "\n",
    "            if k!=0: \n",
    "                first_third_ratios = np.append(first_third_ratios, k/i)\n",
    "                second_third_ratios = np.append(second_third_ratios, k/j)\n",
    "    index += 1\n"
   ]
  },
  {
   "cell_type": "code",
   "execution_count": 104,
   "metadata": {},
   "outputs": [
    {
     "name": "stdout",
     "output_type": "stream",
     "text": [
      "[2.02797785 2.0056972  2.05050543 2.64370149 1.96186231 2.00569672\n",
      " 2.00569568 1.91899795 2.00570027 2.02797761 1.9618655  4.49270561\n",
      " 1.98366739 1.98366254 1.98366238 1.9836636  2.0056912  6.05412725\n",
      " 1.9618655  1.30361337 3.72345988 1.9618633  2.00569902 2.00570015\n",
      " 2.00569316 2.02797583 1.98366159 2.02797806 1.98366299 1.98365908\n",
      " 1.9836615  1.94031189 2.00569902 1.98366299 6.32767833 5.48114721\n",
      " 1.98366515 1.96187191 1.9618702  1.96186962 1.98365912 5.48114721\n",
      " 1.9836622  1.98366004 2.00570568 1.96186398 2.02797378 1.98366501\n",
      " 1.96186433]\n",
      "[5.12961266 9.01103562 3.05200495 7.46813307 3.05200495 2.85625558]\n",
      "[array([2.02797785, 2.0056972 , 2.05050543, 2.64370149, 1.96186231,\n",
      "       2.00569672, 2.00569568, 1.91899795, 2.00570027, 2.02797761,\n",
      "       1.9618655 , 4.49270561, 1.98366739, 1.98366254, 1.98366238,\n",
      "       1.9836636 , 2.0056912 , 6.05412725, 1.9618655 , 1.30361337,\n",
      "       3.72345988, 1.9618633 , 2.00569902, 2.00570015, 2.00569316,\n",
      "       2.02797583, 1.98366159, 2.02797806, 1.98366299, 1.98365908,\n",
      "       1.9836615 , 1.94031189, 2.00569902, 1.98366299, 6.32767833,\n",
      "       5.48114721, 1.98366515, 1.96187191, 1.9618702 , 1.96186962,\n",
      "       1.98365912, 5.48114721, 1.9836622 , 1.98366004, 2.00570568,\n",
      "       1.96186398, 2.02797378, 1.98366501, 1.96186433]), array([5.12961266, 9.01103562, 3.05200495, 7.46813307, 3.05200495,\n",
      "       2.85625558]), array([1.94031463, 2.00570356, 1.53856982, 2.0056972 , 1.52166561,\n",
      "       1.43989234])]\n"
     ]
    }
   ],
   "source": [
    "print(first_second_ratios)\n",
    "print(first_third_ratios)\n",
    "\n",
    "ratios = [first_second_ratios, first_third_ratios, second_third_ratios]\n",
    "\n",
    "## Ugly -- gave up on finding nice one haha\n",
    "all_ratios = np.array([])\n",
    "for arr in ratios: \n",
    "    all_ratios = np.append(all_ratios, arr)\n",
    "all_ratios = list(all_ratios)\n",
    "all_ratios\n",
    "\n",
    "print(ratios)"
   ]
  },
  {
   "cell_type": "code",
   "execution_count": 111,
   "metadata": {},
   "outputs": [
    {
     "data": {
      "image/png": "[encoded data removed]",
      "text/plain": [
       "<Figure size 432x432 with 4 Axes>"
      ]
     },
     "metadata": {
      "needs_background": "light"
     },
     "output_type": "display_data"
    }
   ],
   "source": [
    "fig, axs = plt.subplots(2,2, figsize=(6,6))\n",
    "\n",
    "xlabels = ['2nd/1st', '3rd/1st', '3rd/2nd', 'All Ratios']\n",
    "\n",
    "for ax_idx, ax in enumerate([axs[0,0], axs[0,1], axs[1,0],axs[1,1]]):\n",
    "    if ax_idx != 3: \n",
    "        sns.histplot(ratios[ax_idx], ax=ax, bins=50)\n",
    "    else: \n",
    "        sns.histplot(all_ratios, ax=ax, bins=50)\n",
    "\n",
    "    #ax.set(xscale='log')\n",
    "    ax.set(xlabel=xlabels[ax_idx])\n",
    "    ax.tick_params(axis=\"both\", direction=\"inout\")\n",
    "    ax.xaxis.set_minor_locator(AutoMinorLocator())\n",
    "    ax.yaxis.set_minor_locator(AutoMinorLocator())\n",
    "\n",
    "plt.subplots_adjust(wspace=0.45, hspace=0.45)\n",
    "plt.show()"
   ]
  }
 ],
 "metadata": {
  "interpreter": {
   "hash": "d3c0f98bc337faacb3dc92d86fb3c3ff5c297fcab3c4973bdf073a6202ea54c1"
  },
  "kernelspec": {
   "display_name": "Python 3.8.5 64-bit",
   "language": "python",
   "name": "python3"
  },
  "language_info": {
   "codemirror_mode": {
    "name": "ipython",
    "version": 3
   },
   "file_extension": ".py",
   "mimetype": "text/x-python",
   "name": "python",
   "nbconvert_exporter": "python",
   "pygments_lexer": "ipython3",
   "version": "3.8.5"
  },
  "orig_nbformat": 4
 },
 "nbformat": 4,
 "nbformat_minor": 2
}
