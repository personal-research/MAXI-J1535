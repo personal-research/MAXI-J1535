{
 "cells": [
  {
   "cell_type": "markdown",
   "metadata": {},
   "source": [
    "# Notes\n",
    "* In this model I will use knn for prediction of class and neural net for regression. It makes sense that the KNN is accurate for even k=1 because the points are temporally related so the most similiar point will be the closest in time and will thus share the most QPO properties. \n",
    "* I will conduct this test with an interated random selection of parameters (without replacement). \n",
    "* minibatch = 1 $<$ batch $<$ number of samples\n",
    "* Things to vary: batch size {4, 8, 16, 32}; learning rate {0.1, 0.01, 0.001}; number of layers {1, 2}; neurons per layer {4, 8, 12, 16}, number of epochs {500, 1000, 1500, 2000, 2500, 3000}\n",
    "* Something to consider instead of varrying the number of epochs: early stopping"
   ]
  },
  {
   "cell_type": "markdown",
   "metadata": {},
   "source": [
    "## Model Testing"
   ]
  },
  {
   "cell_type": "code",
   "execution_count": null,
   "metadata": {},
   "outputs": [],
   "source": []
  }
 ],
 "metadata": {
  "language_info": {
   "name": "python"
  },
  "orig_nbformat": 4
 },
 "nbformat": 4,
 "nbformat_minor": 2
}
