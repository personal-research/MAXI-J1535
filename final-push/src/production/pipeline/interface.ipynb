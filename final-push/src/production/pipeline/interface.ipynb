{
 "cells": [
  {
   "cell_type": "code",
   "execution_count": 1,
   "metadata": {},
   "outputs": [],
   "source": [
    "from pipeline import pipeline \n",
    "from sklearn.ensemble import RandomForestRegressor as RandomForest\n",
    "from sklearn.tree import ExtraTreeRegressor as ExtraTree\n",
    "from sklearn.tree import DecisionTreeRegressor as DecisionTree"
   ]
  },
  {
   "cell_type": "code",
   "execution_count": 2,
   "metadata": {},
   "outputs": [
    {
     "data": {
      "image/png": "[encoded data removed]",
      "text/plain": [
       "<Figure size 216x72 with 1 Axes>"
      ]
     },
     "metadata": {},
     "output_type": "display_data"
    }
   ],
   "source": [
    "sources = ['GRS_1915+105']\n",
    "models = [DecisionTree(), RandomForest(), ExtraTree()]\n",
    "model_names = ['Decision Tree', 'Random Forest', 'Extra Trees']\n",
    "\n",
    "qpo_preprocess_dictionaries = [{'frequency':'normalize', 'width':'normalize', 'rms':'normalize'}]\n",
    "\n",
    "context_preprocess_dictionaries = [{'net_count_rate':'normalize', 'gamma':'normalize', 'kTe':'normalize', \n",
    "                                    'nthcomp_norm':'normalize', 'diskbb_tin':'normalize', \n",
    "                                    'diskbb_norm':'normalize'}]\n",
    "\n",
    "model_hyperparameter_dictionaries = [{'min_samples_split':[4,6], 'min_samples_leaf':[1,3]}, \n",
    "                                     {'min_samples_split': [4,6], 'min_samples_leaf':[1,3]},\n",
    "                                     {'min_samples_split':[4,6], 'min_samples_leaf':[1,3]}]\n",
    "\n",
    "source_classes = ['BH']\n",
    "source_instruments = ['RXTE']\n",
    "\n",
    "pipeline(sources=sources, models=models, model_names=model_names, \n",
    "         source_classes=source_classes, source_instruments=source_instruments,\n",
    "         qpo_preprocess_dictionaries=qpo_preprocess_dictionaries, \n",
    "         context_preprocess_dictionaries=context_preprocess_dictionaries,\n",
    "         model_hyperparameter_dictionaries=model_hyperparameter_dictionaries)"
   ]
  }
 ],
 "metadata": {
  "kernelspec": {
   "display_name": "Python 3.7.11 ('base')",
   "language": "python",
   "name": "python3"
  },
  "language_info": {
   "codemirror_mode": {
    "name": "ipython",
    "version": 3
   },
   "file_extension": ".py",
   "mimetype": "text/x-python",
   "name": "python",
   "nbconvert_exporter": "python",
   "pygments_lexer": "ipython3",
   "version": "3.7.11"
  },
  "orig_nbformat": 4,
  "vscode": {
   "interpreter": {
    "hash": "61634f27096185db293e43d7ab06201f69d50b978aaac5c14f7a90e065000d31"
   }
  }
 },
 "nbformat": 4,
 "nbformat_minor": 2
}
