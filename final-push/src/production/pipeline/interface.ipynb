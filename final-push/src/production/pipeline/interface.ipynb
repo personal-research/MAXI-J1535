{
 "cells": [
  {
   "cell_type": "code",
   "execution_count": null,
   "metadata": {},
   "outputs": [
    {
     "ename": "",
     "evalue": "",
     "output_type": "error",
     "traceback": [
      "\u001b[1;31mFailed to start the Kernel. \n",
      "\u001b[1;31mUnable to start Kernel 'base (Python 3.7.11)' due to connection timeout. \n",
      "View Jupyter <a href='command:jupyter.viewOutput'>log</a> for further details."
     ]
    }
   ],
   "source": [
    "from pipeline import regression_pipeline, classification_pipeline \n",
    "from sklearn.ensemble import RandomForestRegressor as RandomForest\n",
    "from sklearn.tree import ExtraTreeRegressor as ExtraTree\n",
    "from sklearn.tree import DecisionTreeRegressor as DecisionTree \n",
    "from xgboost import XGBRegressor"
   ]
  },
  {
   "cell_type": "markdown",
   "metadata": {},
   "source": [
    "### regression pipeline"
   ]
  },
  {
   "cell_type": "code",
   "execution_count": null,
   "metadata": {},
   "outputs": [
    {
     "ename": "",
     "evalue": "",
     "output_type": "error",
     "traceback": [
      "\u001b[1;31mFailed to start the Kernel. \n",
      "\u001b[1;31mUnable to start Kernel 'base (Python 3.7.11)' due to connection timeout. \n",
      "View Jupyter <a href='command:jupyter.viewOutput'>log</a> for further details."
     ]
    }
   ],
   "source": [
    "sources = ['GRS_1915+105']\n",
    "models = [DecisionTree(), RandomForest(), ExtraTree(), XGBRegressor()]\n",
    "model_names = ['Decision Tree', 'Random Forest', 'Extra Trees', 'XGBoost']\n",
    "\n",
    "qpo_preprocess_dictionaries = [{'frequency':'normalize', 'width':'normalize', 'rms':'normalize'}]\n",
    "\n",
    "context_preprocess_dictionaries = [{'A':'normalize', 'B':'normalize', 'C':'normalize', \n",
    "                                    'D':'normalize', 'E':'normalize', \n",
    "                                    'F':'normalize', 'H':'normalize'}]\n",
    "\n",
    "model_hyperparameter_dictionaries = [{'min_samples_split':[4,6], 'min_samples_leaf':[3]}, \n",
    "                                     {'min_samples_split': [4,6], 'min_samples_leaf':[1]},\n",
    "                                     {'min_samples_split':[4,6], 'min_samples_leaf':[1]}, \n",
    "                                     {'n_estimators':[500,1000], 'eta':[0.1]}]\n",
    "\n",
    "source_classes = ['BH']\n",
    "source_instruments = ['RXTE']\n",
    "\n",
    "units = {'frequency':'Hz'}\n",
    "\n",
    "regression_pipeline(sources=sources, models=models, model_names=model_names, \n",
    "         source_classes=source_classes, source_instruments=source_instruments,\n",
    "         qpo_preprocess_dictionaries=qpo_preprocess_dictionaries, \n",
    "         context_preprocess_dictionaries=context_preprocess_dictionaries,\n",
    "         model_hyperparameter_dictionaries=model_hyperparameter_dictionaries, \n",
    "         units=units)"
   ]
  },
  {
   "cell_type": "markdown",
   "metadata": {},
   "source": [
    "### classification pipeline"
   ]
  },
  {
   "cell_type": "code",
   "execution_count": null,
   "metadata": {},
   "outputs": [],
   "source": [
    "sources = ['MAXI_J1535-571']\n",
    "models = [DecisionTree(), RandomForest(), ExtraTree(), XGBRegressor()]\n",
    "model_names = ['Decision Tree', 'Random Forest', 'Extra Trees', 'XGBoost']\n",
    "\n",
    "qpo_preprocess_dictionaries = [{'frequency':'normalize', 'width':'normalize', 'rms':'normalize'}]\n",
    "\n",
    "context_preprocess_dictionaries = [{'A':'normalize', 'B':'normalize', 'C':'normalize', \n",
    "                                    'D':'normalize', 'E':'normalize', \n",
    "                                    'F':'normalize', 'H':'normalize'}]\n",
    "\n",
    "model_hyperparameter_dictionaries = [{'min_samples_split':[4,6], 'min_samples_leaf':[3]}, \n",
    "                                     {'min_samples_split': [4,6], 'min_samples_leaf':[1]},\n",
    "                                     {'min_samples_split':[4,6], 'min_samples_leaf':[1]}, \n",
    "                                     {'n_estimators':[500,1000], 'eta':[0.1]}]\n",
    "\n",
    "source_classes = ['BH']\n",
    "source_instruments = ['RXTE']\n",
    "\n",
    "units = {'frequency':'Hz'}\n",
    "\n",
    "regression_pipeline(sources=sources, models=models, model_names=model_names, \n",
    "         source_classes=source_classes, source_instruments=source_instruments,\n",
    "         qpo_preprocess_dictionaries=qpo_preprocess_dictionaries, \n",
    "         context_preprocess_dictionaries=context_preprocess_dictionaries,\n",
    "         model_hyperparameter_dictionaries=model_hyperparameter_dictionaries, \n",
    "         units=units)"
   ]
  },
  {
   "cell_type": "code",
   "execution_count": 3,
   "metadata": {},
   "outputs": [
    {
     "data": {
      "image/png": "[encoded data removed]",
      "text/plain": [
       "<Figure size 252x189 with 1 Axes>"
      ]
     },
     "metadata": {},
     "output_type": "display_data"
    }
   ],
   "source": [
    "import matplotlib.pyplot as plt \n",
    "import seaborn as sns\n",
    "import numpy as np\n",
    "\n",
    "fig, ax = plt.subplots()\n",
    "\n",
    "seaborn_colors = sns.color_palette('deep')\n",
    "\n",
    "x = np.arange(0, 10)\n",
    "\n",
    "for i in range(len(seaborn_colors)):\n",
    "    ax.plot(x, (i+1)*x, color=seaborn_colors[i])"
   ]
  }
 ],
 "metadata": {
  "kernelspec": {
   "display_name": "Python 3.7.11 ('base')",
   "language": "python",
   "name": "python3"
  },
  "language_info": {
   "codemirror_mode": {
    "name": "ipython",
    "version": 3
   },
   "file_extension": ".py",
   "mimetype": "text/x-python",
   "name": "python",
   "nbconvert_exporter": "python",
   "pygments_lexer": "ipython3",
   "version": "3.7.11"
  },
  "orig_nbformat": 4,
  "vscode": {
   "interpreter": {
    "hash": "61634f27096185db293e43d7ab06201f69d50b978aaac5c14f7a90e065000d31"
   }
  }
 },
 "nbformat": 4,
 "nbformat_minor": 2
}
